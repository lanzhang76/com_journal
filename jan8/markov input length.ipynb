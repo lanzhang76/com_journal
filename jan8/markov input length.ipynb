{
 "cells": [
  {
   "cell_type": "code",
   "execution_count": 373,
   "metadata": {},
   "outputs": [
    {
     "name": "stdout",
     "output_type": "stream",
     "text": [
      "That’s all over now.\n"
     ]
    }
   ],
   "source": [
    "import pandas as pd\n",
    "file = pd.read_csv('../jan7/300Full_transcripts.csv', escapechar='\\\\', encoding='utf-8')\n",
    "corpus = file.scripts[49].replace('\\', \\'','').replace('\\']','').replace('[\\'','').replace('xa0',' ')\n",
    "print(corpus[:20])"
   ]
  },
  {
   "cell_type": "code",
   "execution_count": 218,
   "metadata": {},
   "outputs": [
    {
     "name": "stdout",
     "output_type": "stream",
     "text": [
      "['That’s', 'all', 'over', 'now.', 'Because', 'I’m', 'fucking', 'pregnant!', 'Yeah,', 'I', 'did', 'it.', 'I’m', 'amazing.', 'I', 'laid', 'there,', 'and…', 'that’s', 'it.']\n"
     ]
    }
   ],
   "source": [
    "import re\n",
    "words = corpus.split(\" \")\n",
    "print(words[0:20])"
   ]
  },
  {
   "cell_type": "markdown",
   "metadata": {},
   "source": [
    "## creates tuple:value markov dict"
   ]
  },
  {
   "cell_type": "code",
   "execution_count": 202,
   "metadata": {},
   "outputs": [],
   "source": [
    "def markovCount(li,num):\n",
    "    markov = {}\n",
    "    for word in range(len(li)-num):\n",
    "        gram = tuple(li[word:word+num])\n",
    "        next_follow = li[word+num]\n",
    "        if gram not in markov:\n",
    "            markov[gram] = []\n",
    "        markov[gram].append(next_follow)\n",
    "    return markov "
   ]
  },
  {
   "cell_type": "markdown",
   "metadata": {},
   "source": [
    "## Flow thought\n",
    "getNextWord() takes two parameters: string, and the n-gram markov dictionary\n",
    "\n",
    "markov dictionary takes two parameters: the original wordlist and the number of words\n",
    "\n",
    "number of words = len(string.split()) ??\n",
    "\n",
    "the n-gram dictionary's \"n\" will modify based on the length of the input"
   ]
  },
  {
   "cell_type": "markdown",
   "metadata": {},
   "source": [
    "## gets a random word from values of a key with the last word"
   ]
  },
  {
   "cell_type": "code",
   "execution_count": 13,
   "metadata": {},
   "outputs": [],
   "source": [
    "import random\n",
    "def getNextword(currentWord, dic):\n",
    "    li = dic[tuple(currentWord)]\n",
    "    next_word = li[int(random.randrange(len(li)))]\n",
    "    return next_word"
   ]
  },
  {
   "cell_type": "code",
   "execution_count": 137,
   "metadata": {},
   "outputs": [
    {
     "name": "stdout",
     "output_type": "stream",
     "text": [
      "['make', 'means', 'had', 'might']\n"
     ]
    }
   ],
   "source": [
    "sentence = 'also'\n",
    "\n",
    "new_ngram = markovCount(words,len(sentence.split()))\n",
    "nextList = new_ngram[tuple(sentence.split())]\n",
    "if nextList is not []:\n",
    "    print(nextList)\n",
    "else:\n",
    "    count = 0\n",
    "    nextList = new_ngram[tuple(sentence.split()[1:])]\n",
    "\n",
    "    print(nextList)"
   ]
  },
  {
   "cell_type": "code",
   "execution_count": 84,
   "metadata": {},
   "outputs": [],
   "source": [
    "def clamp(min_val,value,max_val):\n",
    "    num = max(min_val,min(value,max_val))\n",
    "    return num"
   ]
  },
  {
   "cell_type": "markdown",
   "metadata": {},
   "source": [
    "## free lengeth key value list generator\n",
    "the function below takes in any sentence of any length, and outputs the next word"
   ]
  },
  {
   "cell_type": "code",
   "execution_count": 367,
   "metadata": {},
   "outputs": [],
   "source": [
    "def nextWord_anyInput(sentence):\n",
    "    sentence = sentence.replace(\"'\",\"’\")\n",
    "    og_ngram = markovCount(words,len(sentence.split()))\n",
    "    key_words = tuple(sentence.split())\n",
    "\n",
    "    count = 1\n",
    "    while og_ngram.get(key_words) is None:\n",
    "        new_pairs = markovCount(words,len(sentence.split()[count:]))\n",
    "        key_words = tuple(sentence.split()[count:])\n",
    "        next_WORD_list = []\n",
    "        #print(key_words) #prints out the filtered levels of words\n",
    "        if count > clamp(0,count,len(sentence.split())-2):\n",
    "            break\n",
    "        else:\n",
    "            count +=1 \n",
    "        next_WORD_list = new_pairs.get(key_words)  \n",
    "    else:\n",
    "        next_WORD_list = og_ngram.get(key_words)      \n",
    "    return next_WORD_list    "
   ]
  },
  {
   "cell_type": "code",
   "execution_count": 353,
   "metadata": {},
   "outputs": [],
   "source": [
    "def pickNext(sentence):\n",
    "    if nextWord_anyInput(sentence) == None:\n",
    "        print(\"Sorry, we don't have related content of your input\")\n",
    "        next_word = ''\n",
    "    else:\n",
    "        li = nextWord_anyInput(sentence)\n",
    "        if len(li) == 0:\n",
    "            next_word = '.'\n",
    "        else:\n",
    "            next_word = li[int(random.randrange(len(li)))]\n",
    "    return next_word"
   ]
  },
  {
   "cell_type": "code",
   "execution_count": 358,
   "metadata": {},
   "outputs": [],
   "source": [
    "def generateTillEnd(current_sentence):\n",
    "    sen = current_sentence\n",
    "    lastword = sen.split()[-1]\n",
    "    while (re.findall(r\"[.?!][]\\\"')}]?\",sen) == []) is True:\n",
    "        lastword = sen.split()[-1]\n",
    "        sen = sen + \" \" + pickNext(sen)\n",
    "    else:\n",
    "        return sen "
   ]
  },
  {
   "cell_type": "code",
   "execution_count": 360,
   "metadata": {},
   "outputs": [
    {
     "name": "stdout",
     "output_type": "stream",
     "text": [
      "I love you.I\n",
      "I got arrested in October.\n",
      "I was like, “No!\n",
      "I love my family and friends, and I feel really satisfied with work, and… kind of had accepted that, you know?\n",
      "I try to put one of those Monistat suppositories in, it just falls right on the floor.\n"
     ]
    }
   ],
   "source": [
    "sentence = \"I\"\n",
    "for i in range(5):\n",
    "    print(generateTillEnd(sentence))"
   ]
  },
  {
   "cell_type": "code",
   "execution_count": 369,
   "metadata": {},
   "outputs": [
    {
     "name": "stdout",
     "output_type": "stream",
     "text": [
      "the wrong hole, or not a hole.\n",
      "the bridesmaid with the biggest arm, you know?\n",
      "the cardio.\n",
      "the spectrum are all of the reasons that I fell madly in love with him.\n",
      "the two hand.\n"
     ]
    }
   ],
   "source": [
    "for i in range(5):\n",
    "    print(generateTillEnd(\"the\"))"
   ]
  },
  {
   "cell_type": "code",
   "execution_count": null,
   "metadata": {},
   "outputs": [],
   "source": []
  }
 ],
 "metadata": {
  "kernelspec": {
   "display_name": "Python 3",
   "language": "python",
   "name": "python3"
  },
  "language_info": {
   "codemirror_mode": {
    "name": "ipython",
    "version": 3
   },
   "file_extension": ".py",
   "mimetype": "text/x-python",
   "name": "python",
   "nbconvert_exporter": "python",
   "pygments_lexer": "ipython3",
   "version": "3.7.4"
  }
 },
 "nbformat": 4,
 "nbformat_minor": 2
}
