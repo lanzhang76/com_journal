{
 "cells": [
  {
   "cell_type": "code",
   "execution_count": 224,
   "metadata": {},
   "outputs": [
    {
     "data": {
      "text/plain": [
       "'That’s all'"
      ]
     },
     "execution_count": 224,
     "metadata": {},
     "output_type": "execute_result"
    }
   ],
   "source": [
    "import pandas as pd\n",
    "file = pd.read_csv('../jan7/300Full_transcripts.csv', escapechar='\\\\', encoding='utf-8')\n",
    "corpus = file.scripts[49].replace('\\', \\'','').replace('\\']','').replace('[\\'','').replace('xa0',' ')\n",
    "corpus[:10]"
   ]
  },
  {
   "cell_type": "code",
   "execution_count": 218,
   "metadata": {},
   "outputs": [
    {
     "name": "stdout",
     "output_type": "stream",
     "text": [
      "['That’s', 'all', 'over', 'now.', 'Because', 'I’m', 'fucking', 'pregnant!', 'Yeah,', 'I', 'did', 'it.', 'I’m', 'amazing.', 'I', 'laid', 'there,', 'and…', 'that’s', 'it.']\n"
     ]
    }
   ],
   "source": [
    "import re\n",
    "words = corpus.split(\" \")\n",
    "print(words[0:20])"
   ]
  },
  {
   "cell_type": "markdown",
   "metadata": {},
   "source": [
    "## creates tuple:value markov dict"
   ]
  },
  {
   "cell_type": "code",
   "execution_count": 202,
   "metadata": {},
   "outputs": [],
   "source": [
    "def markovCount(li,num):\n",
    "    markov = {}\n",
    "    for word in range(len(li)-num):\n",
    "        gram = tuple(li[word:word+num])\n",
    "        next_follow = li[word+num]\n",
    "        if gram not in markov:\n",
    "            markov[gram] = []\n",
    "        markov[gram].append(next_follow)\n",
    "    return markov "
   ]
  },
  {
   "cell_type": "markdown",
   "metadata": {},
   "source": [
    "## Flow thought\n",
    "getNextWord() takes two parameters: string, and the n-gram markov dictionary\n",
    "\n",
    "markov dictionary takes two parameters: the original wordlist and the number of words\n",
    "\n",
    "number of words = len(string.split()) ??\n",
    "\n",
    "the n-gram dictionary's \"n\" will modify based on the length of the input"
   ]
  },
  {
   "cell_type": "markdown",
   "metadata": {},
   "source": [
    "## gets a random word from values of a key with the last word"
   ]
  },
  {
   "cell_type": "code",
   "execution_count": 13,
   "metadata": {},
   "outputs": [],
   "source": [
    "import random\n",
    "def getNextword(currentWord, dic):\n",
    "    li = dic[tuple(currentWord)]\n",
    "    next_word = li[int(random.randrange(len(li)))]\n",
    "    return next_word"
   ]
  },
  {
   "cell_type": "code",
   "execution_count": 137,
   "metadata": {},
   "outputs": [
    {
     "name": "stdout",
     "output_type": "stream",
     "text": [
      "['make', 'means', 'had', 'might']\n"
     ]
    }
   ],
   "source": [
    "sentence = 'also'\n",
    "\n",
    "new_ngram = markovCount(words,len(sentence.split()))\n",
    "nextList = new_ngram[tuple(sentence.split())]\n",
    "if nextList is not []:\n",
    "    print(nextList)\n",
    "else:\n",
    "    count = 0\n",
    "    nextList = new_ngram[tuple(sentence.split()[1:])]\n",
    "\n",
    "    print(nextList)\n"
   ]
  },
  {
   "cell_type": "code",
   "execution_count": 84,
   "metadata": {},
   "outputs": [],
   "source": [
    "def clamp(min_val,value,max_val):\n",
    "    num = max(min_val,min(value,max_val))\n",
    "    return num"
   ]
  },
  {
   "cell_type": "code",
   "execution_count": 241,
   "metadata": {},
   "outputs": [
    {
     "name": "stdout",
     "output_type": "stream",
     "text": [
      "None\n"
     ]
    }
   ],
   "source": [
    "sentence = \"I That's all\"\n",
    "sentence = sentence.replace(\"'\",\"’\")\n",
    "key = tuple(sentence.split())\n",
    "\n",
    "while new_ngram.get()\n",
    "\n",
    "\n",
    "# try: \n",
    "#     new_ngram = markovCount(words,len(sentence.split()))\n",
    "    \n",
    "#     print(\"here\")\n",
    "# except:\n",
    "#     if(new_ngram[tuple(sentence.split())] == []):\n",
    "#         print(\"empty\")\n",
    "#     count = 1\n",
    "#     new_pairs = markovCount(words,len(sentence.split()[count:]))\n",
    "#     new_List = new_pairs[tuple(sentence.split()[count:])]\n",
    "#     print(new_List)\n",
    "\n",
    "        "
   ]
  },
  {
   "cell_type": "code",
   "execution_count": null,
   "metadata": {},
   "outputs": [],
   "source": []
  },
  {
   "cell_type": "code",
   "execution_count": null,
   "metadata": {},
   "outputs": [],
   "source": []
  }
 ],
 "metadata": {
  "kernelspec": {
   "display_name": "Python 3",
   "language": "python",
   "name": "python3"
  },
  "language_info": {
   "codemirror_mode": {
    "name": "ipython",
    "version": 3
   },
   "file_extension": ".py",
   "mimetype": "text/x-python",
   "name": "python",
   "nbconvert_exporter": "python",
   "pygments_lexer": "ipython3",
   "version": "3.7.4"
  }
 },
 "nbformat": 4,
 "nbformat_minor": 2
}
