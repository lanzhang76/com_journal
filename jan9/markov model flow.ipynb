{
 "cells": [
  {
   "cell_type": "markdown",
   "metadata": {},
   "source": [
    "░█▄█░█▀█░█▀▄░░░█▄█░█▀█░█▀▄░\n",
    "░█░█░█▀█░█▀▄░░░█░█░█▀█░█▀▄\n",
    "░▀░▀░▀░▀░▀░▀░░░▀░▀░▀░▀░▀░▀\n",
    "\n",
    "a markov chain generator's functions compilations created by Lan"
   ]
  },
  {
   "cell_type": "markdown",
   "metadata": {},
   "source": [
    "## workflow\n",
    "\n",
    "1. load csv file or load an existing corpus\n",
    "2. parse the text and split the string \n",
    "3. asks for user input sentence\n",
    "4. generate output"
   ]
  },
  {
   "cell_type": "code",
   "execution_count": 1,
   "metadata": {},
   "outputs": [],
   "source": [
    "import re\n",
    "import random \n",
    "import pandas as pd"
   ]
  },
  {
   "cell_type": "code",
   "execution_count": 2,
   "metadata": {},
   "outputs": [],
   "source": [
    "def cleanText(corpus):\n",
    "    corpus = corpus.replace('\\', \\'','').replace('\\']','').replace('[\\'','').replace('xa0',' ')\n",
    "    words = corpus.split(\" \")\n",
    "    return words"
   ]
  },
  {
   "cell_type": "markdown",
   "metadata": {},
   "source": [
    "## making a word list\n",
    "getting the word list of one particular transcript"
   ]
  },
  {
   "cell_type": "code",
   "execution_count": 3,
   "metadata": {},
   "outputs": [
    {
     "data": {
      "text/plain": [
       "['That’s']"
      ]
     },
     "execution_count": 3,
     "metadata": {},
     "output_type": "execute_result"
    }
   ],
   "source": [
    "file = pd.read_csv('../jan7/300Full_transcripts.csv', escapechar='\\\\', encoding='utf-8')\n",
    "word_list = cleanText(file.scripts[49])\n",
    "word_list[:1]"
   ]
  },
  {
   "cell_type": "markdown",
   "metadata": {},
   "source": [
    "## markov dictionary\n",
    "generating a dictionary of n-gram tuples and its markov word followers"
   ]
  },
  {
   "cell_type": "code",
   "execution_count": 4,
   "metadata": {},
   "outputs": [],
   "source": [
    "def markovCount(word_list,num):\n",
    "    markov_dict = {}\n",
    "    for word in range(len(word_list)-num):\n",
    "        gram = tuple(word_list[word:word+num])\n",
    "        next_follow = word_list[word+num]\n",
    "        if gram not in markov_dict:\n",
    "            markov_dict[gram] = []\n",
    "        markov_dict[gram].append(next_follow)\n",
    "    return markov_dict"
   ]
  },
  {
   "cell_type": "markdown",
   "metadata": {},
   "source": [
    "a clamping function for limitting the counter later"
   ]
  },
  {
   "cell_type": "code",
   "execution_count": 5,
   "metadata": {},
   "outputs": [],
   "source": [
    "def clamp(min_val,value,max_val):\n",
    "    num = max(min_val,min(value,max_val))\n",
    "    return num"
   ]
  },
  {
   "cell_type": "markdown",
   "metadata": {},
   "source": [
    "## gets the list of next possible words\n",
    "with any length of input, using a counter that eliminate the first word of the sentence if the input doesn't exist as a key in the ngram dictionary"
   ]
  },
  {
   "cell_type": "code",
   "execution_count": 6,
   "metadata": {},
   "outputs": [],
   "source": [
    "def nextWord_anyInput(sentence,words):\n",
    "    sentence = sentence.replace(\"'\",\"’\")\n",
    "    og_ngram = markovCount(words,len(sentence.split()))\n",
    "    key_words = tuple(sentence.split())\n",
    "\n",
    "    count = 1\n",
    "    while og_ngram.get(key_words) is None:\n",
    "        new_pairs = markovCount(words,len(sentence.split()[count:]))\n",
    "        key_words = tuple(sentence.split()[count:])\n",
    "        next_word_list = []\n",
    "        #print(key_words) #prints out the filtered levels of words\n",
    "        if count > clamp(0,count,len(sentence.split())-2):\n",
    "            break\n",
    "        else:\n",
    "            count +=1 \n",
    "        next_word_list = new_pairs.get(key_words)  \n",
    "    else:\n",
    "        next_word_list = og_ngram.get(key_words)      \n",
    "    return next_word_list    "
   ]
  },
  {
   "cell_type": "markdown",
   "metadata": {},
   "source": [
    "## pick a random word from the list\n",
    "catches if the input has no according value"
   ]
  },
  {
   "cell_type": "code",
   "execution_count": 7,
   "metadata": {},
   "outputs": [],
   "source": [
    "def pickNext(sentence):\n",
    "    if nextWord_anyInput(sentence,word_list) == None:\n",
    "        print(\"Sorry, we don't have related content of your input\")\n",
    "        next_word = ''\n",
    "    else:\n",
    "        li = nextWord_anyInput(sentence,word_list)\n",
    "        if len(li) == 0:\n",
    "            next_word = '.'\n",
    "        else:\n",
    "            next_word = li[int(random.randrange(len(li)))]\n",
    "    return next_word"
   ]
  },
  {
   "cell_type": "markdown",
   "metadata": {},
   "source": [
    "## append the new word to the current sentence\n",
    "until the next word is the end-of-a-sentence word"
   ]
  },
  {
   "cell_type": "code",
   "execution_count": 8,
   "metadata": {},
   "outputs": [],
   "source": [
    "def generateTillEnd(current_sentence):\n",
    "    sen = current_sentence\n",
    "    lastword = sen.split()[-1]\n",
    "    while (re.findall(r\"[.?!][]\\\"')}]?\",sen) == []) is True:\n",
    "        lastword = sen.split()[-1]\n",
    "        word = pickNext(sen)\n",
    "        if word != '.':\n",
    "            sen = sen + \" \" + word\n",
    "        else:\n",
    "            sen += word\n",
    "    else:\n",
    "        return sen "
   ]
  },
  {
   "cell_type": "code",
   "execution_count": 9,
   "metadata": {},
   "outputs": [
    {
     "data": {
      "text/plain": [
       "'the hardest, right?'"
      ]
     },
     "execution_count": 9,
     "metadata": {},
     "output_type": "execute_result"
    }
   ],
   "source": [
    "generateTillEnd(\"the\")"
   ]
  },
  {
   "cell_type": "code",
   "execution_count": 10,
   "metadata": {},
   "outputs": [],
   "source": [
    "def getInput():\n",
    "    sen = input(\"\")\n",
    "    output = generateTillEnd(sen)\n",
    "    return output"
   ]
  },
  {
   "cell_type": "code",
   "execution_count": 11,
   "metadata": {},
   "outputs": [
    {
     "name": "stdout",
     "output_type": "stream",
     "text": [
      "the\n",
      "the day the same amount pregnant.\n",
      "pregnant\n",
      "the day the same amount pregnant. pregnant could be really hard.\n",
      "it is hard because\n",
      "the day the same amount pregnant. pregnant could be really hard. it is hard because.\n",
      "it is a painful experience\n",
      "the day the same amount pregnant. pregnant could be really hard. it is hard because. it is a painful experience.\n",
      "but also a funny experince\n",
      "the day the same amount pregnant. pregnant could be really hard. it is hard because. it is a painful experience. but also a funny experince.\n",
      "I\n",
      "the day the same amount pregnant. pregnant could be really hard. it is hard because. it is a painful experience. but also a funny experince. I just… I didn’t have the energy for dating anymore, like… Remember when you hook up with someone the first time?\n",
      "hooking up is okay\n",
      "the day the same amount pregnant. pregnant could be really hard. it is hard because. it is a painful experience. but also a funny experince. I just… I didn’t have the energy for dating anymore, like… Remember when you hook up with someone the first time? hooking up is okay.\n",
      "and\n",
      "the day the same amount pregnant. pregnant could be really hard. it is hard because. it is a painful experience. but also a funny experince. I just… I didn’t have the energy for dating anymore, like… Remember when you hook up with someone the first time? hooking up is okay. and then just walk around all day.\n",
      "walk\n",
      "the day the same amount pregnant. pregnant could be really hard. it is hard because. it is a painful experience. but also a funny experince. I just… I didn’t have the energy for dating anymore, like… Remember when you hook up with someone the first time? hooking up is okay. and then just walk around all day. walk around all day.\n",
      "walk is a fun thing\n",
      "the day the same amount pregnant. pregnant could be really hard. it is hard because. it is a painful experience. but also a funny experince. I just… I didn’t have the energy for dating anymore, like… Remember when you hook up with someone the first time? hooking up is okay. and then just walk around all day. walk around all day. walk is a fun thing.\n"
     ]
    }
   ],
   "source": [
    "newScript = \"\"\n",
    "whil:\n",
    "    if newScript != \"\":\n",
    "        newScript = newScript + \" \" + getInput()\n",
    "    else:\n",
    "        newScript += getInput()\n",
    "    print(newScript)"
   ]
  },
  {
   "cell_type": "code",
   "execution_count": 20,
   "metadata": {},
   "outputs": [
    {
     "data": {
      "text/plain": [
       "'m a n'"
      ]
     },
     "execution_count": 20,
     "metadata": {},
     "output_type": "execute_result"
    }
   ],
   "source": [
    "string1 = \"hello\"\n",
    "string2 = \"man\"\n",
    "' '.join(string2)"
   ]
  },
  {
   "cell_type": "code",
   "execution_count": null,
   "metadata": {},
   "outputs": [],
   "source": []
  }
 ],
 "metadata": {
  "kernelspec": {
   "display_name": "Python 3",
   "language": "python",
   "name": "python3"
  },
  "language_info": {
   "codemirror_mode": {
    "name": "ipython",
    "version": 3
   },
   "file_extension": ".py",
   "mimetype": "text/x-python",
   "name": "python",
   "nbconvert_exporter": "python",
   "pygments_lexer": "ipython3",
   "version": "3.7.4"
  }
 },
 "nbformat": 4,
 "nbformat_minor": 2
}
