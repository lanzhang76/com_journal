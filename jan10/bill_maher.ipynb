{
 "cells": [
  {
   "cell_type": "code",
   "execution_count": 5,
   "metadata": {},
   "outputs": [],
   "source": [
    "import re\n",
    "import random \n",
    "import pandas as pd"
   ]
  },
  {
   "cell_type": "code",
   "execution_count": 6,
   "metadata": {},
   "outputs": [],
   "source": [
    "def cleanText(textfile):\n",
    "    text = open(textfile,'r')\n",
    "    corpus = text.read()\n",
    "    corpus = corpus.replace('\\', \\'',' ').replace('\\']','').replace('[\\'','').replace('xa0',' ')\n",
    "    words = corpus.split(\" \")\n",
    "    return words"
   ]
  },
  {
   "cell_type": "code",
   "execution_count": 7,
   "metadata": {},
   "outputs": [],
   "source": [
    "word_list = cleanText(\"bill_maher.txt\")"
   ]
  },
  {
   "cell_type": "code",
   "execution_count": null,
   "metadata": {},
   "outputs": [],
   "source": [
    "def markovCount(word_list,num):\n",
    "    markov_dict = {}\n",
    "    for word in range(len(word_list)-num):\n",
    "        gram = tuple(word_list[word:word+num])\n",
    "        next_follow = word_list[word+num]\n",
    "        if gram not in markov_dict:\n",
    "            markov_dict[gram] = []\n",
    "        markov_dict[gram].append(next_follow)\n",
    "    return markov_dict\n",
    "\n",
    "def clamp(min_val,value,max_val):\n",
    "    num = max(min_val,min(value,max_val))\n",
    "    return num\n",
    "\n",
    "def nextWord_anyInput(sentence,words):\n",
    "    sentence = sentence.replace(\"'\",\"’\")\n",
    "    og_ngram = markovCount(words,len(sentence.split()))\n",
    "    key_words = tuple(sentence.split())\n",
    "    next_word_list = []\n",
    "    count = 1\n",
    "    while og_ngram.get(key_words) is None:\n",
    "        sentence = sentence.replace(\"'\",\"’\")\n",
    "        key_words = tuple(sentence.split())\n",
    "        new_pairs = markovCount(words,len(sentence.split()[count:]))\n",
    "        next_word_list = new_pairs.get(key_words[count:]) #is also none????\n",
    "        if count > clamp(0,count,len(sentence.split())-2):\n",
    "            break\n",
    "        else:\n",
    "            count +=1     \n",
    "    else:\n",
    "        next_word_list = og_ngram.get(key_words)      \n",
    "    return next_word_list \n",
    "\n",
    "# def pickNext(sentence):\n",
    "#     if nextWord_anyInput(sentence,word_list) == None:\n",
    "#         print(\"Sorry, we don't have related content of your input\")\n",
    "#         next_word = ''\n",
    "#     else:\n",
    "#         li = nextWord_anyInput(sentence,word_list)\n",
    "#         if len(li) == 0:\n",
    "#             next_word = '.'\n",
    "#         else:\n",
    "#             next_word = li[int(random.randrange(len(li)))]\n",
    "#     return next_word\n",
    "\n",
    "# # the GENERATE FUNCTION IS HERE:\n",
    "# def generateTillEnd(current_sentence):\n",
    "#     sen = current_sentence\n",
    "#     lastword = sen.split()[-1]\n",
    "#     while (re.findall(r\"[.?!][]\\\"')}]?\",sen) == []) is True:\n",
    "#         lastword = sen.split()[-1]\n",
    "#         word = pickNext(sen)\n",
    "#         if word != '.':\n",
    "#             sen = sen + \" \" + word\n",
    "#         else:\n",
    "#             sen += word\n",
    "#     else:\n",
    "#         return sen \n",
    "\n",
    "def generateTillEnd(current_sentence,li):\n",
    "    sen = current_sentence\n",
    "    next_word = ''\n",
    "    word_list = li\n",
    "    while (re.findall(r\"[.?!][]\\\"')}]?\",sen) == []) is True:  \n",
    "        if nextWord_anyInput(sen,word_list) == None:\n",
    "            break\n",
    "            print(\"Sorry, we don't have related content of your input\")\n",
    "            sen = sen + '.'\n",
    "            \n",
    "        elif len(nextWord_anyInput(sen,word_list))== 0:\n",
    "            next_word = '.'\n",
    "            sen += \".\"\n",
    "        else:\n",
    "            next_list = nextWord_anyInput(sen,word_list)\n",
    "            next_word = next_list[int(random.randrange(len(next_list)))]\n",
    "            sen = sen + \" \" + next_word\n",
    "\n",
    "    return sen \n",
    "\n",
    "def getInput():\n",
    "    sen = input(\"\")\n",
    "    output = generateTillEnd(sen,word_list)\n",
    "    return output"
   ]
  },
  {
   "cell_type": "code",
   "execution_count": null,
   "metadata": {},
   "outputs": [],
   "source": [
    "clear = lambda: os.system('clear')"
   ]
  },
  {
   "cell_type": "code",
   "execution_count": null,
   "metadata": {},
   "outputs": [
    {
     "name": "stdout",
     "output_type": "stream",
     "text": [
      "I am wondeirng hu\n",
      "I am wondeirng hu\n",
      "can this really be\n",
      "I am wondeirng hu can this really be born and she’s a parent, I have to the same style.\n"
     ]
    }
   ],
   "source": [
    "newScript = \"\"\n",
    "for i in range(10):\n",
    "    if newScript != \"\":\n",
    "        newScript = newScript + \" \" + getInput()\n",
    "    else:\n",
    "        newScript += getInput()\n",
    "    print(newScript)"
   ]
  },
  {
   "cell_type": "code",
   "execution_count": null,
   "metadata": {},
   "outputs": [],
   "source": [
    "def nextWord_anyInput(sentence,words):\n",
    "    sentence = sentence.replace(\"'\",\"’\")\n",
    "    og_ngram = markovCount(words,len(sentence.split()))\n",
    "    key_words = tuple(sentence.split())\n",
    "    next_word_list = []\n",
    "    count = 1\n",
    "    while og_ngram.get(key_words) is None:\n",
    "        new_pairs = markovCount(words,len(sentence.split()[count:]))\n",
    "        next_word_list = new_pairs.get(key_words[count:])\n",
    "        if count > clamp(0,count,len(sentence.split())-2):\n",
    "            break\n",
    "        else:\n",
    "            count +=1     \n",
    "    else:\n",
    "        next_word_list = og_ngram.get(key_words)      \n",
    "    return next_word_list  "
   ]
  },
  {
   "cell_type": "code",
   "execution_count": null,
   "metadata": {},
   "outputs": [],
   "source": [
    "sentence = \"person a hero\"\n",
    "key_words = tuple(sentence.split())\n",
    "nextWord_anyInput(sentence,word_list)"
   ]
  },
  {
   "cell_type": "code",
   "execution_count": null,
   "metadata": {},
   "outputs": [],
   "source": [
    "generateTillEnd(\"sdhfksdhf\")"
   ]
  },
  {
   "cell_type": "code",
   "execution_count": 17,
   "metadata": {
    "scrolled": true
   },
   "outputs": [
    {
     "name": "stdout",
     "output_type": "stream",
     "text": [
      "I am wodnering hu\n"
     ]
    }
   ],
   "source": [
    "print(generateTillEnd(\"I am wodnering hu\",word_list))\n",
    "# sentence = \"I am wodnering hu\"\n",
    "# new_pairs = markovCount(word_list,len(sentence.split()[3:]))"
   ]
  },
  {
   "cell_type": "code",
   "execution_count": null,
   "metadata": {},
   "outputs": [],
   "source": []
  }
 ],
 "metadata": {
  "kernelspec": {
   "display_name": "Python 3",
   "language": "python",
   "name": "python3"
  },
  "language_info": {
   "codemirror_mode": {
    "name": "ipython",
    "version": 3
   },
   "file_extension": ".py",
   "mimetype": "text/x-python",
   "name": "python",
   "nbconvert_exporter": "python",
   "pygments_lexer": "ipython3",
   "version": "3.7.4"
  }
 },
 "nbformat": 4,
 "nbformat_minor": 2
}
