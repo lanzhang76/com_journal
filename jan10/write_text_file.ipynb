{
 "cells": [
  {
   "cell_type": "code",
   "execution_count": 2,
   "metadata": {},
   "outputs": [],
   "source": [
    "import re\n",
    "import random \n",
    "import pandas as pd"
   ]
  },
  {
   "cell_type": "code",
   "execution_count": 72,
   "metadata": {},
   "outputs": [
    {
     "data": {
      "text/plain": [
       "'Sebastian Maniscalco Stand-Up – The Tonight Show Starring Jimmy Fallon (2019) – Full Transcript'"
      ]
     },
     "execution_count": 72,
     "metadata": {},
     "output_type": "execute_result"
    }
   ],
   "source": [
    "file = pd.read_csv('../jan7/300Full_transcripts.csv')\n",
    "title_list = {}\n",
    "for i,title in enumerate(file.title):\n",
    "    title_list[i] = title\n",
    "\n",
    "transcript_list = {}\n",
    "for i,script in enumerate(file.scripts):\n",
    "    transcript_list[i] = script\n"
   ]
  },
  {
   "cell_type": "markdown",
   "metadata": {},
   "source": [
    "file = pd.read_csv('../jan7/300Full_transcripts.csv')"
   ]
  },
  {
   "cell_type": "code",
   "execution_count": 55,
   "metadata": {},
   "outputs": [
    {
     "name": "stdout",
     "output_type": "stream",
     "text": [
      "New NNP\n",
      "Rule NN\n",
      ": :\n",
      "White NNP\n",
      "Shame NNP\n",
      "| NNP\n",
      "Real NNP\n",
      "Time NNP\n",
      "with IN\n",
      "Bill NNP\n",
      "Maher NNP\n",
      "( -LRB-\n",
      "HBO NNP\n",
      ") -RRB-\n",
      "– :\n",
      "Transcript NNP\n"
     ]
    }
   ],
   "source": [
    "import spacy\n",
    "nlp = spacy.load(\"en_core_web_sm\")"
   ]
  },
  {
   "cell_type": "code",
   "execution_count": 57,
   "metadata": {},
   "outputs": [
    {
     "name": "stdout",
     "output_type": "stream",
     "text": [
      "Bill Maher PERSON\n",
      "HBO ORG\n"
     ]
    }
   ],
   "source": [
    "doc = nlp(\"New Rule: White Shame | Real Time with Bill Maher (HBO) – Transcript\")\n",
    "for ent in doc.ents:\n",
    "    print(ent.text,ent.label_)"
   ]
  },
  {
   "cell_type": "code",
   "execution_count": 96,
   "metadata": {},
   "outputs": [],
   "source": [
    "names = []\n",
    "comedian_catalogue = {}\n",
    "for i in title_list:\n",
    "    title = nlp(title_list[i])\n",
    "    for ent in title.ents:\n",
    "        if ent.label_ == \"PERSON\":\n",
    "            name = ent.text\n",
    "            if name not in comedian_catalogue:\n",
    "                comedian_catalogue[name] = [i]\n",
    "            else:\n",
    "                comedian_catalogue[name].append(i)"
   ]
  },
  {
   "cell_type": "code",
   "execution_count": 99,
   "metadata": {},
   "outputs": [
    {
     "name": "stdout",
     "output_type": "stream",
     "text": [
      "{'Bill Maher': [0, 4, 8, 13, 15, 17, 91, 94, 102, 104], 'Bill Cosby': [1], 'Ryan Hamilton': [5], 'Mark Normand': [6], 'George Carlin': [7, 16, 37, 53, 79, 229, 250, 312, 315, 318, 319], 'Bill Burr': [9, 76], 'Dave Chappelle': [10, 12], 'Punchline': [10], 'Hasan Minhaj': [11, 292], 'Glad David Koch': [13], 'Dead | Real': [13], 'Emily Heller': [14], 'Kathy Griffin': [17], 'David Cross': [18], 'Kevin Hart': [19, 46], 'Eddie Griffin': [21], 'Tom Segura': [22, 74], 'Aziz Ansari': [23], 'Mike Epps': [25], 'Adam DeVine': [26], 'Jo Koy': [27, 28], 'Miranda Sings Live': [29], 'Gina Yashere': [30], 'Doug Stanhope': [32], 'Colin Quinn': [34], 'Demetri Martin': [35, 101], 'Jen Kirkman': [36], 'Chelsea Peretti': [38], 'Anthony Jeselnik': [39, 259], 'Roy Wood Jr.': [40], 'Robin Williams': [41, 299], 'Robin Williams Live': [42], 'Jimmy Carr': [43], 'Nate Bargatze': [44, 48], 'W. Kamau Bell': [45], 'Jerry Seinfeld': [47], 'Amy Schumer': [49], 'Ricky Gervais': [50, 51], 'Enissa Amani': [52], 'Ken Jeong': [54], 'Ho': [54], 'Ray Romano': [55], 'Gabriel “Fluffy”': [56], 'Sebastian Maniscalco': [57, 59, 60], 'Morons': [58], 'John Leguizamo’s': [58], 'Pete Holmes': [63], 'Vir Das': [64], 'Russell Brand': [65], 'Volker': [66], 'Trevor Noah': [67], 'Patricia': [67], 'Lenny': [68], 'Bruce Unspruced': [68], 'Judith Crist': [68], 'Jeff Foxworthy & Larry': [69], 'Guy': [69], 'Adam Sandler': [70], 'Jeff Foxworthy': [71], 'Ron White': [72], 'Joe Mande': [77], 'Henry Rollins': [78], 'Pal': [78], 'Joe Rogan': [80], 'Richard Pryor': [81], 'Carl Bennett': [81], 'Louis C.K.': [82, 83, 85], 'Sarah Silverman': [84], 'John Mulaney': [86, 260], 'David Chappelle': [87], 'D.L. Hughley': [88], 'Daniel Sloss': [89, 90], 'Jigsaw': [90], 'Iliza Shlesinger': [92, 93, 107, 109], 'Freezing Hot': [92], 'Cohen': [95, 97, 98, 103, 108], 'Bert Kreischer': [96], 'Dick Gregory': [100], 'Rowan Atkinson Live': [106], 'JIM GAFFIGAN': [111, 279], 'JIM NORTON': [113, 251], 'Hannah Gadsby': [114], 'JIM JEFFERIES': [120, 230, 265, 280, 300, 307, 314], 'OUTSOURCED': [122], 'RON WHITE': [124], 'MICHAEL MCINTYRE': [125], 'KEVIN JAMES': [127], 'TREVOR NOAH': [128, 183, 298], 'MIKE BIRBIGLIA': [145, 266], 'CHRIS ROCK': [148, 150, 201, 203, 225], 'TAMBORINE': [150], 'BRIAN': [155, 156], 'LAUGHING': [159], 'JOKING': [159], 'D.L. HUGHLEY': [161], 'Chris Rock': [163], 'CHRIS TUCKER': [167], 'Anjelah Johnson': [191], 'JACK WHITEHALL': [194], 'JESUS': [205], 'Pablo Francisco': [207], 'BILL MAHER': [208], 'GEORGE CARLIN ON': [214], 'RICHARD PRYOR’S': [215], 'DAVE ATTELL': [223], 'JEN KIRKMAN': [226], 'DANIEL TOSH': [228], 'MARON': [240], 'Jim Jefferies': [241], 'MICHAEL CHE MATTERS': [252], 'MARIA BAMFORD': [255], 'MITCH HEDBERG': [272], 'WALK YOUR WAY': [288], 'Larry King': [299], 'BARE': [300], 'Testo': [305], 'Eddie Murphy': [308]}\n"
     ]
    }
   ],
   "source": [
    "print(comedian_catalogue)"
   ]
  },
  {
   "cell_type": "code",
   "execution_count": 117,
   "metadata": {},
   "outputs": [
    {
     "name": "stdout",
     "output_type": "stream",
     "text": [
      "216472\n"
     ]
    }
   ],
   "source": [
    "bill_maher = \"\"\n",
    "for i in range(len(comedian_catalogue['Bill Maher'])):\n",
    "    bill_maher+=transcript_list[i]\n",
    "print(len(bill_maher))"
   ]
  },
  {
   "cell_type": "code",
   "execution_count": 120,
   "metadata": {},
   "outputs": [
    {
     "data": {
      "text/plain": [
       "216472"
      ]
     },
     "execution_count": 120,
     "metadata": {},
     "output_type": "execute_result"
    }
   ],
   "source": [
    "f = open(r\"bill_maher.txt\",'w+')\n",
    "f.write(bill_maher)"
   ]
  },
  {
   "cell_type": "code",
   "execution_count": null,
   "metadata": {},
   "outputs": [],
   "source": []
  }
 ],
 "metadata": {
  "kernelspec": {
   "display_name": "Python 3",
   "language": "python",
   "name": "python3"
  },
  "language_info": {
   "codemirror_mode": {
    "name": "ipython",
    "version": 3
   },
   "file_extension": ".py",
   "mimetype": "text/x-python",
   "name": "python",
   "nbconvert_exporter": "python",
   "pygments_lexer": "ipython3",
   "version": "3.7.4"
  }
 },
 "nbformat": 4,
 "nbformat_minor": 2
}
