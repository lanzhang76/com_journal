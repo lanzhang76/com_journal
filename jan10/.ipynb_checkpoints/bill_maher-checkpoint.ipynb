{
 "cells": [
  {
   "cell_type": "code",
   "execution_count": 1,
   "metadata": {},
   "outputs": [],
   "source": [
    "import re\n",
    "import random \n",
    "import pandas as pd"
   ]
  },
  {
   "cell_type": "code",
   "execution_count": 2,
   "metadata": {},
   "outputs": [],
   "source": [
    "def cleanText(textfile):\n",
    "    text = open(textfile,'r')\n",
    "    corpus = text.read()\n",
    "    corpus = corpus.replace('\\', \\'',' ').replace('\\']','').replace('[\\'','').replace('xa0',' ')\n",
    "    words = corpus.split(\" \")\n",
    "    return words"
   ]
  },
  {
   "cell_type": "code",
   "execution_count": 3,
   "metadata": {},
   "outputs": [],
   "source": [
    "word_list = cleanText(\"bill_maher.txt\")"
   ]
  },
  {
   "cell_type": "code",
   "execution_count": null,
   "metadata": {},
   "outputs": [],
   "source": [
    "def markovCount(word_list,num):\n",
    "    markov_dict = {}\n",
    "    for word in range(len(word_list)-num):\n",
    "        gram = tuple(word_list[word:word+num])\n",
    "        next_follow = word_list[word+num]\n",
    "        if gram not in markov_dict:\n",
    "            markov_dict[gram] = []\n",
    "        markov_dict[gram].append(next_follow)\n",
    "    return markov_dict\n",
    "\n",
    "def clamp(min_val,value,max_val):\n",
    "    num = max(min_val,min(value,max_val))\n",
    "    return num\n",
    "\n",
    "def nextWord_anyInput(sentence,words):\n",
    "    sentence = sentence.replace(\"'\",\"’\")\n",
    "    og_ngram = markovCount(words,len(sentence.split()))\n",
    "    key_words = tuple(sentence.split())\n",
    "    next_word_list = []\n",
    "    count = 1\n",
    "    while og_ngram.get(key_words) is None:\n",
    "        new_pairs = markovCount(words,len(sentence.split()[count:]))\n",
    "        next_word_list = new_pairs.get(key_words[count:])\n",
    "        if count > clamp(0,count,len(sentence.split())-2):\n",
    "            break\n",
    "        else:\n",
    "            count +=1     \n",
    "    else:\n",
    "        print(\"else\")\n",
    "        next_word_list = og_ngram.get(key_words)      \n",
    "    return next_word_list \n",
    "\n",
    "def pickNext(sentence):\n",
    "    if nextWord_anyInput(sentence,word_list) == None:\n",
    "        print(\"Sorry, we don't have related content of your input\")\n",
    "        next_word = ''\n",
    "    else:\n",
    "        li = nextWord_anyInput(sentence,word_list)\n",
    "        if len(li) == 0:\n",
    "            next_word = '.'\n",
    "        else:\n",
    "            next_word = li[int(random.randrange(len(li)))]\n",
    "    return next_word\n",
    "\n",
    "def generateTillEnd(current_sentence):\n",
    "    sen = current_sentence\n",
    "    lastword = sen.split()[-1]\n",
    "    while (re.findall(r\"[.?!][]\\\"')}]?\",sen) == []) is True:\n",
    "        lastword = sen.split()[-1]\n",
    "        word = pickNext(sen)\n",
    "        if word != '.':\n",
    "            sen = sen + \" \" + word\n",
    "        else:\n",
    "            sen += word\n",
    "    else:\n",
    "        return sen \n",
    "\n",
    "def getInput():\n",
    "    sen = input(\"\")\n",
    "    output = generateTillEnd(sen)\n",
    "    return output"
   ]
  },
  {
   "cell_type": "code",
   "execution_count": 82,
   "metadata": {},
   "outputs": [],
   "source": [
    "newScript = \"\"\n",
    "# while True:\n",
    "#     if newScript != \"\":\n",
    "#         newScript = newScript + \" \" + getInput()\n",
    "#     else:\n",
    "#         newScript += getInput()\n",
    "#     print()\n",
    "#     print(newScript)"
   ]
  },
  {
   "cell_type": "code",
   "execution_count": 89,
   "metadata": {},
   "outputs": [],
   "source": [
    "def nextWord_anyInput(sentence,words):\n",
    "    sentence = sentence.replace(\"'\",\"’\")\n",
    "    og_ngram = markovCount(words,len(sentence.split()))\n",
    "    key_words = tuple(sentence.split())\n",
    "    next_word_list = []\n",
    "    count = 1\n",
    "    while og_ngram.get(key_words) is None:\n",
    "        new_pairs = markovCount(words,len(sentence.split()[count:]))\n",
    "        next_word_list = new_pairs.get(key_words[count:])\n",
    "        if count > clamp(0,count,len(sentence.split())-2):\n",
    "            break\n",
    "        else:\n",
    "            count +=1     \n",
    "    else:\n",
    "        print(\"else\")\n",
    "        next_word_list = og_ngram.get(key_words)      \n",
    "    return next_word_list  "
   ]
  },
  {
   "cell_type": "code",
   "execution_count": 95,
   "metadata": {},
   "outputs": [
    {
     "data": {
      "text/plain": [
       "['I',\n",
       " 'formally',\n",
       " 'at',\n",
       " 'not',\n",
       " 'waiting',\n",
       " 'I',\n",
       " 'too',\n",
       " 'I',\n",
       " 'willing',\n",
       " 'great',\n",
       " 'at',\n",
       " 'on',\n",
       " 'willing',\n",
       " 'I',\n",
       " 'I',\n",
       " 'so',\n",
       " 'I,',\n",
       " 'so',\n",
       " 'I',\n",
       " 'how',\n",
       " 'not',\n",
       " 'I',\n",
       " 'as',\n",
       " 'alone',\n",
       " 'so',\n",
       " 'I',\n",
       " 'I,',\n",
       " 'your',\n",
       " 'legitimately',\n",
       " 'I']"
      ]
     },
     "execution_count": 95,
     "metadata": {},
     "output_type": "execute_result"
    }
   ],
   "source": [
    "sentence = \"look I am\"\n",
    "key_words = tuple(sentence.split())\n",
    "nextWord_anyInput(sentence,word_list)"
   ]
  },
  {
   "cell_type": "code",
   "execution_count": null,
   "metadata": {},
   "outputs": [],
   "source": []
  }
 ],
 "metadata": {
  "kernelspec": {
   "display_name": "Python 3",
   "language": "python",
   "name": "python3"
  },
  "language_info": {
   "codemirror_mode": {
    "name": "ipython",
    "version": 3
   },
   "file_extension": ".py",
   "mimetype": "text/x-python",
   "name": "python",
   "nbconvert_exporter": "python",
   "pygments_lexer": "ipython3",
   "version": "3.7.4"
  }
 },
 "nbformat": 4,
 "nbformat_minor": 2
}
