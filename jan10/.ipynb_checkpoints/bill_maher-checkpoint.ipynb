{
 "cells": [
  {
   "cell_type": "code",
   "execution_count": 1,
   "metadata": {},
   "outputs": [],
   "source": [
    "import re\n",
    "import random \n",
    "import pandas as pd"
   ]
  },
  {
   "cell_type": "code",
   "execution_count": 2,
   "metadata": {},
   "outputs": [],
   "source": [
    "def cleanText(textfile):\n",
    "    text = open(textfile,'r')\n",
    "    corpus = text.read()\n",
    "    corpus = corpus.replace('\\', \\'',' ').replace('\\']','').replace('[\\'','').replace('xa0',' ')\n",
    "    words = corpus.split(\" \")\n",
    "    return words"
   ]
  },
  {
   "cell_type": "code",
   "execution_count": 3,
   "metadata": {},
   "outputs": [],
   "source": [
    "word_list = cleanText(\"bill_maher.txt\")"
   ]
  },
  {
   "cell_type": "code",
   "execution_count": null,
   "metadata": {},
   "outputs": [],
   "source": [
    "def markovCount(word_list,num):\n",
    "    markov_dict = {}\n",
    "    for word in range(len(word_list)-num):\n",
    "        gram = tuple(word_list[word:word+num])\n",
    "        next_follow = word_list[word+num]\n",
    "        if gram not in markov_dict:\n",
    "            markov_dict[gram] = []\n",
    "        markov_dict[gram].append(next_follow)\n",
    "    return markov_dict\n",
    "\n",
    "def clamp(min_val,value,max_val):\n",
    "    num = max(min_val,min(value,max_val))\n",
    "    return num\n",
    "\n",
    "def nextWord_anyInput(sentence,words):\n",
    "    sentence = sentence.replace(\"'\",\"’\")\n",
    "    og_ngram = markovCount(words,len(sentence.split()))\n",
    "    key_words = tuple(sentence.split())\n",
    "\n",
    "    count = 1\n",
    "    while og_ngram.get(key_words) is None:\n",
    "        new_pairs = markovCount(words,len(sentence.split()[count:]))\n",
    "        key_words = tuple(sentence.split()[count:])\n",
    "        next_word_list = []\n",
    "        #print(key_words) #prints out the filtered levels of words\n",
    "        if count > clamp(0,count,len(sentence.split())-2):\n",
    "            break\n",
    "        else:\n",
    "            count +=1 \n",
    "        next_word_list = new_pairs.get(key_words)  \n",
    "    else:\n",
    "        next_word_list = og_ngram.get(key_words)      \n",
    "    return next_word_list  \n",
    "\n",
    "def pickNext(sentence):\n",
    "    if nextWord_anyInput(sentence,word_list) == None:\n",
    "        print(\"Sorry, we don't have related content of your input\")\n",
    "        next_word = ''\n",
    "    else:\n",
    "        li = nextWord_anyInput(sentence,word_list)\n",
    "        if len(li) == 0:\n",
    "            next_word = '.'\n",
    "        else:\n",
    "            next_word = li[int(random.randrange(len(li)))]\n",
    "    return next_word\n",
    "\n",
    "def generateTillEnd(current_sentence):\n",
    "    sen = current_sentence\n",
    "    lastword = sen.split()[-1]\n",
    "    while (re.findall(r\"[.?!][]\\\"')}]?\",sen) == []) is True:\n",
    "        lastword = sen.split()[-1]\n",
    "        word = pickNext(sen)\n",
    "        if word != '.':\n",
    "            sen = sen + \" \" + word\n",
    "        else:\n",
    "            sen += word\n",
    "    else:\n",
    "        return sen \n",
    "\n",
    "def getInput():\n",
    "    sen = input(\"\")\n",
    "    output = generateTillEnd(sen)\n",
    "    return output"
   ]
  },
  {
   "cell_type": "code",
   "execution_count": 41,
   "metadata": {},
   "outputs": [
    {
     "name": "stdout",
     "output_type": "stream",
     "text": [
      "country\n",
      "\n",
      "country is big-time pig time.\n",
      "I love my country\n",
      "\n",
      "country is big-time pig time. I love my country.\n",
      "I hate it too\n",
      "\n",
      "country is big-time pig time. I love my country. I hate it too.\n",
      "I hate it because\n",
      "\n",
      "country is big-time pig time. I love my country. I hate it too. I hate it because.\n",
      "because\n",
      "\n",
      "country is big-time pig time. I love my country. I hate it too. I hate it because. because it’s no great thrill for them to have this incompetent up there with them—if I was really their friend, I’d stay in the audience, where I belong.\n",
      "I kinda feel like\n",
      "\n",
      "country is big-time pig time. I love my country. I hate it too. I hate it because. because it’s no great thrill for them to have this incompetent up there with them—if I was really their friend, I’d stay in the audience, where I belong. I kinda feel like.\n",
      "feel like\n",
      "\n",
      "country is big-time pig time. I love my country. I hate it too. I hate it because. because it’s no great thrill for them to have this incompetent up there with them—if I was really their friend, I’d stay in the audience, where I belong. I kinda feel like. feel like I wouldn’t be doing this right now if I knew that was there.\n"
     ]
    },
    {
     "ename": "KeyboardInterrupt",
     "evalue": "",
     "output_type": "error",
     "traceback": [
      "\u001b[0;31m-------------------------------------------------------------------------\u001b[0m",
      "\u001b[0;31mKeyboardInterrupt\u001b[0m                       Traceback (most recent call last)",
      "\u001b[0;32m/opt/anaconda3/lib/python3.7/site-packages/ipykernel/kernelbase.py\u001b[0m in \u001b[0;36m_input_request\u001b[0;34m(self, prompt, ident, parent, password)\u001b[0m\n\u001b[1;32m    884\u001b[0m             \u001b[0;32mtry\u001b[0m\u001b[0;34m:\u001b[0m\u001b[0;34m\u001b[0m\u001b[0;34m\u001b[0m\u001b[0m\n\u001b[0;32m--> 885\u001b[0;31m                 \u001b[0mident\u001b[0m\u001b[0;34m,\u001b[0m \u001b[0mreply\u001b[0m \u001b[0;34m=\u001b[0m \u001b[0mself\u001b[0m\u001b[0;34m.\u001b[0m\u001b[0msession\u001b[0m\u001b[0;34m.\u001b[0m\u001b[0mrecv\u001b[0m\u001b[0;34m(\u001b[0m\u001b[0mself\u001b[0m\u001b[0;34m.\u001b[0m\u001b[0mstdin_socket\u001b[0m\u001b[0;34m,\u001b[0m \u001b[0;36m0\u001b[0m\u001b[0;34m)\u001b[0m\u001b[0;34m\u001b[0m\u001b[0;34m\u001b[0m\u001b[0m\n\u001b[0m\u001b[1;32m    886\u001b[0m             \u001b[0;32mexcept\u001b[0m \u001b[0mException\u001b[0m\u001b[0;34m:\u001b[0m\u001b[0;34m\u001b[0m\u001b[0;34m\u001b[0m\u001b[0m\n",
      "\u001b[0;32m/opt/anaconda3/lib/python3.7/site-packages/jupyter_client/session.py\u001b[0m in \u001b[0;36mrecv\u001b[0;34m(self, socket, mode, content, copy)\u001b[0m\n\u001b[1;32m    802\u001b[0m         \u001b[0;32mtry\u001b[0m\u001b[0;34m:\u001b[0m\u001b[0;34m\u001b[0m\u001b[0;34m\u001b[0m\u001b[0m\n\u001b[0;32m--> 803\u001b[0;31m             \u001b[0mmsg_list\u001b[0m \u001b[0;34m=\u001b[0m \u001b[0msocket\u001b[0m\u001b[0;34m.\u001b[0m\u001b[0mrecv_multipart\u001b[0m\u001b[0;34m(\u001b[0m\u001b[0mmode\u001b[0m\u001b[0;34m,\u001b[0m \u001b[0mcopy\u001b[0m\u001b[0;34m=\u001b[0m\u001b[0mcopy\u001b[0m\u001b[0;34m)\u001b[0m\u001b[0;34m\u001b[0m\u001b[0;34m\u001b[0m\u001b[0m\n\u001b[0m\u001b[1;32m    804\u001b[0m         \u001b[0;32mexcept\u001b[0m \u001b[0mzmq\u001b[0m\u001b[0;34m.\u001b[0m\u001b[0mZMQError\u001b[0m \u001b[0;32mas\u001b[0m \u001b[0me\u001b[0m\u001b[0;34m:\u001b[0m\u001b[0;34m\u001b[0m\u001b[0;34m\u001b[0m\u001b[0m\n",
      "\u001b[0;32m/opt/anaconda3/lib/python3.7/site-packages/zmq/sugar/socket.py\u001b[0m in \u001b[0;36mrecv_multipart\u001b[0;34m(self, flags, copy, track)\u001b[0m\n\u001b[1;32m    474\u001b[0m         \"\"\"\n\u001b[0;32m--> 475\u001b[0;31m         \u001b[0mparts\u001b[0m \u001b[0;34m=\u001b[0m \u001b[0;34m[\u001b[0m\u001b[0mself\u001b[0m\u001b[0;34m.\u001b[0m\u001b[0mrecv\u001b[0m\u001b[0;34m(\u001b[0m\u001b[0mflags\u001b[0m\u001b[0;34m,\u001b[0m \u001b[0mcopy\u001b[0m\u001b[0;34m=\u001b[0m\u001b[0mcopy\u001b[0m\u001b[0;34m,\u001b[0m \u001b[0mtrack\u001b[0m\u001b[0;34m=\u001b[0m\u001b[0mtrack\u001b[0m\u001b[0;34m)\u001b[0m\u001b[0;34m]\u001b[0m\u001b[0;34m\u001b[0m\u001b[0;34m\u001b[0m\u001b[0m\n\u001b[0m\u001b[1;32m    476\u001b[0m         \u001b[0;31m# have first part already, only loop while more to receive\u001b[0m\u001b[0;34m\u001b[0m\u001b[0;34m\u001b[0m\u001b[0;34m\u001b[0m\u001b[0m\n",
      "\u001b[0;32mzmq/backend/cython/socket.pyx\u001b[0m in \u001b[0;36mzmq.backend.cython.socket.Socket.recv\u001b[0;34m()\u001b[0m\n",
      "\u001b[0;32mzmq/backend/cython/socket.pyx\u001b[0m in \u001b[0;36mzmq.backend.cython.socket.Socket.recv\u001b[0;34m()\u001b[0m\n",
      "\u001b[0;32mzmq/backend/cython/socket.pyx\u001b[0m in \u001b[0;36mzmq.backend.cython.socket._recv_copy\u001b[0;34m()\u001b[0m\n",
      "\u001b[0;32m/opt/anaconda3/lib/python3.7/site-packages/zmq/backend/cython/checkrc.pxd\u001b[0m in \u001b[0;36mzmq.backend.cython.checkrc._check_rc\u001b[0;34m()\u001b[0m\n",
      "\u001b[0;31mKeyboardInterrupt\u001b[0m: ",
      "\nDuring handling of the above exception, another exception occurred:\n",
      "\u001b[0;31mKeyboardInterrupt\u001b[0m                       Traceback (most recent call last)",
      "\u001b[0;32m<ipython-input-41-c1af96e7aee1>\u001b[0m in \u001b[0;36m<module>\u001b[0;34m\u001b[0m\n\u001b[1;32m      2\u001b[0m \u001b[0;32mwhile\u001b[0m \u001b[0;32mTrue\u001b[0m\u001b[0;34m:\u001b[0m\u001b[0;34m\u001b[0m\u001b[0;34m\u001b[0m\u001b[0m\n\u001b[1;32m      3\u001b[0m     \u001b[0;32mif\u001b[0m \u001b[0mnewScript\u001b[0m \u001b[0;34m!=\u001b[0m \u001b[0;34m\"\"\u001b[0m\u001b[0;34m:\u001b[0m\u001b[0;34m\u001b[0m\u001b[0;34m\u001b[0m\u001b[0m\n\u001b[0;32m----> 4\u001b[0;31m         \u001b[0mnewScript\u001b[0m \u001b[0;34m=\u001b[0m \u001b[0mnewScript\u001b[0m \u001b[0;34m+\u001b[0m \u001b[0;34m\" \"\u001b[0m \u001b[0;34m+\u001b[0m \u001b[0mgetInput\u001b[0m\u001b[0;34m(\u001b[0m\u001b[0;34m)\u001b[0m\u001b[0;34m\u001b[0m\u001b[0;34m\u001b[0m\u001b[0m\n\u001b[0m\u001b[1;32m      5\u001b[0m     \u001b[0;32melse\u001b[0m\u001b[0;34m:\u001b[0m\u001b[0;34m\u001b[0m\u001b[0;34m\u001b[0m\u001b[0m\n\u001b[1;32m      6\u001b[0m         \u001b[0mnewScript\u001b[0m \u001b[0;34m+=\u001b[0m \u001b[0mgetInput\u001b[0m\u001b[0;34m(\u001b[0m\u001b[0;34m)\u001b[0m\u001b[0;34m\u001b[0m\u001b[0;34m\u001b[0m\u001b[0m\n",
      "\u001b[0;32m<ipython-input-28-b318ac25ec35>\u001b[0m in \u001b[0;36mgetInput\u001b[0;34m()\u001b[0m\n\u001b[1;32m     59\u001b[0m \u001b[0;34m\u001b[0m\u001b[0m\n\u001b[1;32m     60\u001b[0m \u001b[0;32mdef\u001b[0m \u001b[0mgetInput\u001b[0m\u001b[0;34m(\u001b[0m\u001b[0;34m)\u001b[0m\u001b[0;34m:\u001b[0m\u001b[0;34m\u001b[0m\u001b[0;34m\u001b[0m\u001b[0m\n\u001b[0;32m---> 61\u001b[0;31m     \u001b[0msen\u001b[0m \u001b[0;34m=\u001b[0m \u001b[0minput\u001b[0m\u001b[0;34m(\u001b[0m\u001b[0;34m\"\"\u001b[0m\u001b[0;34m)\u001b[0m\u001b[0;34m\u001b[0m\u001b[0;34m\u001b[0m\u001b[0m\n\u001b[0m\u001b[1;32m     62\u001b[0m     \u001b[0moutput\u001b[0m \u001b[0;34m=\u001b[0m \u001b[0mgenerateTillEnd\u001b[0m\u001b[0;34m(\u001b[0m\u001b[0msen\u001b[0m\u001b[0;34m)\u001b[0m\u001b[0;34m\u001b[0m\u001b[0;34m\u001b[0m\u001b[0m\n\u001b[1;32m     63\u001b[0m     \u001b[0;32mreturn\u001b[0m \u001b[0moutput\u001b[0m\u001b[0;34m\u001b[0m\u001b[0;34m\u001b[0m\u001b[0m\n",
      "\u001b[0;32m/opt/anaconda3/lib/python3.7/site-packages/ipykernel/kernelbase.py\u001b[0m in \u001b[0;36mraw_input\u001b[0;34m(self, prompt)\u001b[0m\n\u001b[1;32m    858\u001b[0m             \u001b[0mself\u001b[0m\u001b[0;34m.\u001b[0m\u001b[0m_parent_ident\u001b[0m\u001b[0;34m,\u001b[0m\u001b[0;34m\u001b[0m\u001b[0;34m\u001b[0m\u001b[0m\n\u001b[1;32m    859\u001b[0m             \u001b[0mself\u001b[0m\u001b[0;34m.\u001b[0m\u001b[0m_parent_header\u001b[0m\u001b[0;34m,\u001b[0m\u001b[0;34m\u001b[0m\u001b[0;34m\u001b[0m\u001b[0m\n\u001b[0;32m--> 860\u001b[0;31m             \u001b[0mpassword\u001b[0m\u001b[0;34m=\u001b[0m\u001b[0;32mFalse\u001b[0m\u001b[0;34m,\u001b[0m\u001b[0;34m\u001b[0m\u001b[0;34m\u001b[0m\u001b[0m\n\u001b[0m\u001b[1;32m    861\u001b[0m         )\n\u001b[1;32m    862\u001b[0m \u001b[0;34m\u001b[0m\u001b[0m\n",
      "\u001b[0;32m/opt/anaconda3/lib/python3.7/site-packages/ipykernel/kernelbase.py\u001b[0m in \u001b[0;36m_input_request\u001b[0;34m(self, prompt, ident, parent, password)\u001b[0m\n\u001b[1;32m    888\u001b[0m             \u001b[0;32mexcept\u001b[0m \u001b[0mKeyboardInterrupt\u001b[0m\u001b[0;34m:\u001b[0m\u001b[0;34m\u001b[0m\u001b[0;34m\u001b[0m\u001b[0m\n\u001b[1;32m    889\u001b[0m                 \u001b[0;31m# re-raise KeyboardInterrupt, to truncate traceback\u001b[0m\u001b[0;34m\u001b[0m\u001b[0;34m\u001b[0m\u001b[0;34m\u001b[0m\u001b[0m\n\u001b[0;32m--> 890\u001b[0;31m                 \u001b[0;32mraise\u001b[0m \u001b[0mKeyboardInterrupt\u001b[0m\u001b[0;34m\u001b[0m\u001b[0;34m\u001b[0m\u001b[0m\n\u001b[0m\u001b[1;32m    891\u001b[0m             \u001b[0;32melse\u001b[0m\u001b[0;34m:\u001b[0m\u001b[0;34m\u001b[0m\u001b[0;34m\u001b[0m\u001b[0m\n\u001b[1;32m    892\u001b[0m                 \u001b[0;32mbreak\u001b[0m\u001b[0;34m\u001b[0m\u001b[0;34m\u001b[0m\u001b[0m\n",
      "\u001b[0;31mKeyboardInterrupt\u001b[0m: "
     ]
    }
   ],
   "source": [
    "newScript = \"\"\n",
    "while True:\n",
    "    if newScript != \"\":\n",
    "        newScript = newScript + \" \" + getInput()\n",
    "    else:\n",
    "        newScript += getInput()\n",
    "    print()\n",
    "    print(newScript)"
   ]
  },
  {
   "cell_type": "code",
   "execution_count": 75,
   "metadata": {},
   "outputs": [],
   "source": [
    "def nextWord_anyInput(sentence,words):\n",
    "    sentence = sentence.replace(\"'\",\"’\")\n",
    "    og_ngram = markovCount(words,len(sentence.split()))\n",
    "    key_words = tuple(sentence.split())\n",
    "    next_word_list = []\n",
    "    count = 1\n",
    "    while og_ngram.get(key_words) is None:\n",
    "        print(\"here\")\n",
    "        new_pairs = markovCount(words,len(sentence.split()[count:]))\n",
    "        print(count)\n",
    "        next_word_list = new_pairs.get(key_words)\n",
    "        key_words = tuple(sentence.split()[count:]) \n",
    "        print(next_word_list) #prints out the filtered levels of words\n",
    "        if count > clamp(0,count,len(sentence.split())-2):\n",
    "            break\n",
    "        else:\n",
    "            count +=1     \n",
    "    else:\n",
    "        print(\"else\")\n",
    "        next_word_list = og_ngram.get(key_words)      \n",
    "    return next_word_list  "
   ]
  },
  {
   "cell_type": "code",
   "execution_count": 76,
   "metadata": {},
   "outputs": [
    {
     "name": "stdout",
     "output_type": "stream",
     "text": [
      "here\n",
      "1\n",
      "None\n"
     ]
    }
   ],
   "source": [
    "nextWord_anyInput(\"kinda like\",word_list)"
   ]
  },
  {
   "cell_type": "code",
   "execution_count": 60,
   "metadata": {},
   "outputs": [
    {
     "name": "stdout",
     "output_type": "stream",
     "text": [
      "('like',)\n",
      "['the', 'falling', 'a', 'a', 'he’d', 'castles', 'he', 'to', 'The', 'tumbleweed', 'Cliff', 'someone', 'the', 'that.”', 'to', 'she', 'I’m', 'Lenny', 'Billy', 'Murphy’s', 'his', 'Steve', 'a', 'James', 'Dizzy', 'Art', 'a', 'Jerry', 'President', 'human', 'an', 'it', 'you', 'suck', 'French', 'you…', 'peck', 'to', 'the', 'a…', 'a', 'a', 'that,', 'a', 'walk', 'a', 'you’re', 'a', 'love', 'it,', 'doing', 'give', 'show', 'true', 'one', 'believed', 'the', 'set', 'be', 'means', '“You', '“I’ll', 'right', 'Nosferatu,', 'a', 'me.', 'this', '22,', 'blackout', 'mine.', 'a', 'out,', 'ours.', 'meaty', 'and', 'pretty', 'my', 'okay', 'an', 'look', 'this,', 'a', 'a', 'collecting', 'that', 'Dick', 'bondage.', 'getting', 'a', 'in', 'dripping', 'a', 'abandoned.', 'with', 'hitting', 'a', 'a', 'doing', 'getting', 'a', 'getting', 'bang', '“I', 'getting', 'kind', 'to', 'tuck', 'a', 'that,', 'take', 'thinks', 'shoots', 'jumped', 'you', 'want', 'a', 'a', 'I', 'an', 'hanging', 'swaying', 'a', 'waiting,', 'his', 'he', 'a', 'clean', 'a', 'a', 'doing', 'doing', 'most', 'on', 'a', 'maybe', 'a', 'that', 'a…', 'one,', 'bottle', 'almost', 'stop', 'inviting', 'you’re', 'eaten', 'just', 'a', 'you', 'a', 'a', 'a', 'when', 'I’m', 'emerging', 'an', 'drain', 'your', 'you’re', 'a', 'an', 'that.', 'a', 'a', 'a', 'die.”', 'when', 'when', 'for', 'it’s…', 'a', 'you', 'when', 'this,', 'this,', 'that…', 'you', 'a', 'your', 'you', 'almost', 'show', 'fucking', 'this,', 'a', 'a', 'where', 'judge', 'that.', 'when', 'press', 'a', 'some', 'sucking', 'the', 'go', 'you', 'you', 'a', 'your', 'Justin', '“Black', 'carbon', 'you', '3-to-1,', 'poor', 'White', 'the', 'Wolverine’s', 'carrying', 'going', 'Yoda.', 'the', 'that.', 'a', 'it', 'diabetes,', 'assholes…', 'this', 'this.', 'a', 'I’ve', 'watching', 'to', 'Leatherface', 'they', 'he', 'he', 'a', 'to', 'they', 'Tom', 'they', 'bad', 'to', 'that', 'it', 'that!', 'that!”\",', 'whatever', 'it', 'it', 'you', 'to', 'to', 'that,', 'a', 'that', 'I', 'everybody', 'bread.', 'a', 'that', 'that', 'it', 'you', 'one', 'she’s', 'joy,', 'a', 'that', 'a', 'that', 'the', 'to', 'that?', 'when', 'I’m', 'the', 'I', 'you', 'you’re', 'toothpaste.', 'Tom', 'it', 'to', 'a', 'a', 'Star', 'that,', 'some', 'a']\n"
     ]
    }
   ],
   "source": [
    "sentence= \"like\"\n",
    "og_ngram = markovCount(word_list,len(sentence.split()))\n",
    "key_words=tuple(sentence.split())\n",
    "print(key_words)\n",
    "g = og_ngram.get(key_words)\n",
    "print(g)"
   ]
  },
  {
   "cell_type": "code",
   "execution_count": null,
   "metadata": {},
   "outputs": [],
   "source": []
  }
 ],
 "metadata": {
  "kernelspec": {
   "display_name": "Python 3",
   "language": "python",
   "name": "python3"
  },
  "language_info": {
   "codemirror_mode": {
    "name": "ipython",
    "version": 3
   },
   "file_extension": ".py",
   "mimetype": "text/x-python",
   "name": "python",
   "nbconvert_exporter": "python",
   "pygments_lexer": "ipython3",
   "version": "3.7.4"
  }
 },
 "nbformat": 4,
 "nbformat_minor": 2
}
