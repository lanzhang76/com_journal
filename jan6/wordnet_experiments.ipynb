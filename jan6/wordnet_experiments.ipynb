{
 "cells": [
  {
   "cell_type": "markdown",
   "metadata": {},
   "source": [
    "https://www.nltk.org/howto/wordnet.html"
   ]
  },
  {
   "cell_type": "code",
   "execution_count": 1,
   "metadata": {},
   "outputs": [],
   "source": [
    "import nltk \n",
    "from nltk.corpus import wordnet "
   ]
  },
  {
   "cell_type": "code",
   "execution_count": 11,
   "metadata": {},
   "outputs": [],
   "source": [
    "word = wordnet.synsets(\"dog\")"
   ]
  },
  {
   "cell_type": "code",
   "execution_count": 13,
   "metadata": {},
   "outputs": [
    {
     "name": "stdout",
     "output_type": "stream",
     "text": [
      "[Synset('dog.n.01'), Synset('frump.n.01'), Synset('dog.n.03'), Synset('cad.n.01'), Synset('frank.n.02'), Synset('pawl.n.01'), Synset('andiron.n.01'), Synset('chase.v.01')]\n",
      "\n",
      "[Lemma('dog.n.01.dog'), Lemma('dog.n.01.domestic_dog'), Lemma('dog.n.01.Canis_familiaris')]\n"
     ]
    }
   ],
   "source": [
    "print(word)\n",
    "print()\n",
    "print(word[0].lemmas())"
   ]
  },
  {
   "cell_type": "markdown",
   "metadata": {},
   "source": [
    "definition of each synset"
   ]
  },
  {
   "cell_type": "code",
   "execution_count": 26,
   "metadata": {},
   "outputs": [
    {
     "name": "stdout",
     "output_type": "stream",
     "text": [
      "Synset('dish.n.01'), a piece of dishware normally used as a container for holding or serving food\n",
      "Synset('dish.n.02'), a particular item of prepared food\n",
      "Synset('dish.n.03'), the quantity that a dish will hold\n",
      "Synset('smasher.n.02'), a very attractive or seductive looking woman\n",
      "Synset('dish.n.05'), directional antenna consisting of a parabolic reflector for microwave or radio frequency radiation\n",
      "Synset('cup_of_tea.n.01'), an activity that you like or at which you are superior\n",
      "Synset('serve.v.06'), provide (usually but not necessarily food)\n",
      "Synset('dish.v.02'), make concave; shape like a dish\n"
     ]
    }
   ],
   "source": [
    "for w in wordnet.synsets(\"dish\"):\n",
    "    print(f\"{w}, {w.definition()}\")"
   ]
  },
  {
   "cell_type": "markdown",
   "metadata": {},
   "source": [
    "grabbing the synonym noun of the target word"
   ]
  },
  {
   "cell_type": "code",
   "execution_count": 34,
   "metadata": {},
   "outputs": [
    {
     "name": "stdout",
     "output_type": "stream",
     "text": [
      "Lemma('dish.n.01.dish'), dish\n",
      "Lemma('dish.n.02.dish'), dish\n",
      "Lemma('dish.n.03.dish'), dish\n",
      "Lemma('dish.n.03.dishful'), dishful\n",
      "Lemma('smasher.n.02.smasher'), smasher\n",
      "Lemma('smasher.n.02.stunner'), stunner\n",
      "Lemma('smasher.n.02.knockout'), knockout\n",
      "Lemma('smasher.n.02.beauty'), beauty\n",
      "Lemma('smasher.n.02.ravisher'), ravisher\n",
      "Lemma('smasher.n.02.sweetheart'), sweetheart\n",
      "Lemma('smasher.n.02.peach'), peach\n",
      "Lemma('smasher.n.02.lulu'), lulu\n",
      "Lemma('smasher.n.02.looker'), looker\n",
      "Lemma('smasher.n.02.mantrap'), mantrap\n",
      "Lemma('smasher.n.02.dish'), dish\n",
      "Lemma('dish.n.05.dish'), dish\n",
      "Lemma('dish.n.05.dish_aerial'), dish_aerial\n",
      "Lemma('dish.n.05.dish_antenna'), dish_antenna\n",
      "Lemma('dish.n.05.saucer'), saucer\n",
      "Lemma('cup_of_tea.n.01.cup_of_tea'), cup_of_tea\n",
      "Lemma('cup_of_tea.n.01.bag'), bag\n",
      "Lemma('cup_of_tea.n.01.dish'), dish\n",
      "Lemma('serve.v.06.serve'), serve\n",
      "Lemma('serve.v.06.serve_up'), serve_up\n",
      "Lemma('serve.v.06.dish_out'), dish_out\n",
      "Lemma('serve.v.06.dish_up'), dish_up\n",
      "Lemma('serve.v.06.dish'), dish\n",
      "Lemma('dish.v.02.dish'), dish\n"
     ]
    }
   ],
   "source": [
    "for w in wordnet.synsets(\"dish\"):\n",
    "    for i in w.lemmas():\n",
    "        print(f\"{i}, {i.name()}\")"
   ]
  },
  {
   "cell_type": "code",
   "execution_count": 44,
   "metadata": {},
   "outputs": [
    {
     "name": "stdout",
     "output_type": "stream",
     "text": [
      "[\"it sounds good but what's the catch?\"]\n",
      "['the catch was only 10 fish']\n",
      "[]\n",
      "['he shared his catch with the others']\n",
      "[]\n",
      "['he used a book as a stop to hold the door open']\n",
      "[]\n",
      "['he played catch with his son in the backyard']\n",
      "['Mays made the catch with his back to the plate', 'he made a grab for the ball before it landed', \"Martin's snatch at the bridle failed and the horse raced away\", \"the infielder's snap and throw was a single motion\"]\n",
      "['the policeman on the beat got credit for the collar']\n",
      "['She caught her son eating candy', 'She was caught shoplifting']\n",
      "['I caught the aroma of coffee', 'He caught the allusion in her glance', 'ears open to catch every sound', 'The dog picked up the scent', 'Catch a glimpse']\n",
      "['the rock caught her in the back of the head', 'The blow got him in the back', 'The punch caught him in the stomach']\n",
      "['Catch the ball!', 'Grab the elevator door!']\n",
      "['We finally got the suspect', 'Did you catch the thief?']\n",
      "['One foot caught in the stirrup']\n",
      "['His look caught her', 'She caught his eye', 'Catch the attention of the waiter']\n",
      "['I caught a rabbit in the trap today']\n",
      "[\"I have to catch a train at 7 o'clock\"]\n",
      "['Catch some sleep', \"catch one's breath\"]\n",
      "['The Rolls Royce caught us near the exit ramp']\n",
      "['catch fire', 'catch the mood']\n",
      "['She managed to catch herself before telling her boss what was on her mind']\n",
      "['We overheard the conversation at the next table']\n",
      "['view a show on television', 'This program will be seen all over the world', 'view an exhibition', 'Catch a show on Broadway', 'see a movie']\n",
      "['I caught the hem of my dress in the brambles']\n",
      "['The reporter tripped up the senator']\n",
      "['did you catch that allusion?', 'We caught something of his theory in the lecture', \"don't catch your meaning\", 'did you get it?', \"She didn't get the joke\", \"I just don't get him\"]\n",
      "['did you catch a cold?']\n",
      "['The fire caught']\n",
      "[\"I didn't catch your name\", \"She didn't get his name when they met the first time\"]\n",
      "['She will catch hell for this behavior!']\n",
      "[\"She captured all the men's hearts\"]\n",
      "['She really caught the spirit of the place in her drawings', 'She got the mood just right in her photographs']\n",
      "['We have a big barrel to catch the rainwater']\n",
      "['The fashion did not catch']\n",
      "['Who is catching?']\n",
      "['he caught her staring out the window']\n",
      "['I was caught in traffic and missed the meeting']\n"
     ]
    }
   ],
   "source": [
    "for w in wordnet.synsets(\"catch\"):\n",
    "    print(w.examples())"
   ]
  },
  {
   "cell_type": "code",
   "execution_count": 80,
   "metadata": {},
   "outputs": [
    {
     "name": "stdout",
     "output_type": "stream",
     "text": [
      "male_child : [Lemma('female_child.n.01.female_child')],<bound method Lemma.derivationally_related_forms of Lemma('male_child.n.01.male_child')> \n",
      "\n",
      "boy : [],<bound method Lemma.derivationally_related_forms of Lemma('boy.n.02.boy')> \n",
      "\n",
      "son : [Lemma('daughter.n.01.daughter')],<bound method Lemma.derivationally_related_forms of Lemma('son.n.01.son')> \n",
      "\n",
      "boy : [],<bound method Lemma.derivationally_related_forms of Lemma('boy.n.04.boy')> \n",
      "\n"
     ]
    }
   ],
   "source": [
    "for w in wordnet.synsets(\"boy\"):\n",
    "    print(f\"{w.lemmas()[0].name()} : {w.lemmas()[0].antonyms()},{w.lemmas()[0].derivationally_related_forms } \")\n",
    "    print()"
   ]
  },
  {
   "cell_type": "markdown",
   "metadata": {},
   "source": [
    "when you want to set the output type to verb/noun/a"
   ]
  },
  {
   "cell_type": "code",
   "execution_count": 126,
   "metadata": {},
   "outputs": [
    {
     "data": {
      "text/plain": [
       "[Synset('automaton.n.02')]"
      ]
     },
     "execution_count": 126,
     "metadata": {},
     "output_type": "execute_result"
    }
   ],
   "source": [
    "list(wordnet.synsets(\"robot\",pos='n'))"
   ]
  },
  {
   "cell_type": "markdown",
   "metadata": {},
   "source": [
    "Morphy uses inflectional ending rules"
   ]
  },
  {
   "cell_type": "code",
   "execution_count": 2,
   "metadata": {},
   "outputs": [
    {
     "data": {
      "text/plain": [
       "['cactus', 'rule', 'necessity', 'berry', 'goose']"
      ]
     },
     "execution_count": 2,
     "metadata": {},
     "output_type": "execute_result"
    }
   ],
   "source": [
    "from nltk.corpus import wordnet as wn\n",
    "plural_words = [\"cactus\",\"rules\",\"necessities\",\"berries\",\"geese\"]\n",
    "singular = []\n",
    "for p in plural_words:\n",
    "    singular.append(wn.morphy(p))\n",
    "singular    "
   ]
  },
  {
   "cell_type": "markdown",
   "metadata": {},
   "source": [
    "Getting all hyponyms "
   ]
  },
  {
   "cell_type": "code",
   "execution_count": 140,
   "metadata": {},
   "outputs": [
    {
     "data": {
      "text/plain": [
       "['domesticated_animal',\n",
       " 'chordate',\n",
       " 'living_thing',\n",
       " 'mammal',\n",
       " 'craniate',\n",
       " 'canid',\n",
       " 'carnivore',\n",
       " 'domestic_animal',\n",
       " 'object',\n",
       " 'canine',\n",
       " 'placental',\n",
       " 'mammalian',\n",
       " 'brute',\n",
       " 'animal',\n",
       " 'beast',\n",
       " 'placental_mammal',\n",
       " 'eutherian',\n",
       " 'physical_object',\n",
       " 'creature',\n",
       " 'vertebrate',\n",
       " 'animate_being',\n",
       " 'entity',\n",
       " 'animate_thing',\n",
       " 'fauna',\n",
       " 'physical_entity',\n",
       " 'being',\n",
       " 'unit',\n",
       " 'eutherian_mammal',\n",
       " 'whole',\n",
       " 'organism']"
      ]
     },
     "execution_count": 140,
     "metadata": {},
     "output_type": "execute_result"
    }
   ],
   "source": [
    "dog = wn.synset('dog.n.01')\n",
    "categories_has_dogs = list(set([w for s in dog.closure(lambda s:s.hypernyms()) for w in s.lemma_names()]))\n",
    "categories_has_dogs"
   ]
  },
  {
   "cell_type": "code",
   "execution_count": 5,
   "metadata": {},
   "outputs": [
    {
     "data": {
      "text/plain": [
       "['cherish',\n",
       " 'idolise',\n",
       " 'idolize',\n",
       " 'treasure',\n",
       " 'care_for',\n",
       " 'hero-worship',\n",
       " 'drool_over',\n",
       " 'yearn',\n",
       " 'dote',\n",
       " 'worship',\n",
       " 'hold_dear',\n",
       " 'fetishize',\n",
       " 'slobber_over',\n",
       " 'revere',\n",
       " 'love',\n",
       " 'romance',\n",
       " 'adore']"
      ]
     },
     "execution_count": 5,
     "metadata": {},
     "output_type": "execute_result"
    }
   ],
   "source": [
    "love = wn.synset('love.v.01')\n",
    "types_of_love = list(set([w for s in love.closure(lambda s:s.hyponyms()) for w in s.lemma_names()]))\n",
    "types_of_love"
   ]
  },
  {
   "cell_type": "code",
   "execution_count": 14,
   "metadata": {},
   "outputs": [
    {
     "data": {
      "text/plain": [
       "[Synset('adore.v.01'),\n",
       " Synset('care_for.v.02'),\n",
       " Synset('dote.v.02'),\n",
       " Synset('love.v.03'),\n",
       " Synset('fetishize.v.01'),\n",
       " Synset('idolize.v.01'),\n",
       " Synset('yearn.v.03'),\n",
       " Synset('romance.v.02'),\n",
       " Synset('drool_over.v.01')]"
      ]
     },
     "execution_count": 14,
     "metadata": {},
     "output_type": "execute_result"
    }
   ],
   "source": [
    "love = wn.synset('love.v.01')\n",
    "list(love.closure(lambda s: s.hyponyms()))"
   ]
  },
  {
   "cell_type": "code",
   "execution_count": null,
   "metadata": {},
   "outputs": [],
   "source": []
  }
 ],
 "metadata": {
  "kernelspec": {
   "display_name": "Python 3",
   "language": "python",
   "name": "python3"
  },
  "language_info": {
   "codemirror_mode": {
    "name": "ipython",
    "version": 3
   },
   "file_extension": ".py",
   "mimetype": "text/x-python",
   "name": "python",
   "nbconvert_exporter": "python",
   "pygments_lexer": "ipython3",
   "version": "3.7.4"
  }
 },
 "nbformat": 4,
 "nbformat_minor": 2
}
