{
 "cells": [
  {
   "cell_type": "code",
   "execution_count": 13,
   "metadata": {},
   "outputs": [],
   "source": [
    "import pandas as pd\n",
    "file = pd.read_csv('300Full_transcripts.csv')"
   ]
  },
  {
   "cell_type": "code",
   "execution_count": 22,
   "metadata": {},
   "outputs": [
    {
     "data": {
      "text/html": [
       "<div>\n",
       "<style scoped>\n",
       "    .dataframe tbody tr th:only-of-type {\n",
       "        vertical-align: middle;\n",
       "    }\n",
       "\n",
       "    .dataframe tbody tr th {\n",
       "        vertical-align: top;\n",
       "    }\n",
       "\n",
       "    .dataframe thead th {\n",
       "        text-align: right;\n",
       "    }\n",
       "</style>\n",
       "<table border=\"1\" class=\"dataframe\">\n",
       "  <thead>\n",
       "    <tr style=\"text-align: right;\">\n",
       "      <th></th>\n",
       "      <th>Unnamed: 0</th>\n",
       "      <th>title</th>\n",
       "      <th>scripts</th>\n",
       "    </tr>\n",
       "  </thead>\n",
       "  <tbody>\n",
       "    <tr>\n",
       "      <td>262</td>\n",
       "      <td>60</td>\n",
       "      <td>LEWIS BLACK: BLACK TO THE FUTURE (2016) – Full...</td>\n",
       "      <td>['A survey from Public Policy Polling revealed...</td>\n",
       "    </tr>\n",
       "    <tr>\n",
       "      <td>275</td>\n",
       "      <td>73</td>\n",
       "      <td>LOUIS C.K.: LIVE AT THE BEACON THEATRE (2011) ...</td>\n",
       "      <td>['Alright, let’s get started. Go ahead, sit do...</td>\n",
       "    </tr>\n",
       "    <tr>\n",
       "      <td>60</td>\n",
       "      <td>60</td>\n",
       "      <td>Sebastian Maniscalco: What’s Wrong with People...</td>\n",
       "      <td>['So good, so good to be here, man. What a yea...</td>\n",
       "    </tr>\n",
       "    <tr>\n",
       "      <td>266</td>\n",
       "      <td>64</td>\n",
       "      <td>MIKE BIRBIGLIA: THANK GOD FOR JOKES (2017) – F...</td>\n",
       "      <td>['So… Okay. Thank you. Thank you, guys. Well… ...</td>\n",
       "    </tr>\n",
       "    <tr>\n",
       "      <td>264</td>\n",
       "      <td>62</td>\n",
       "      <td>DOUG STANHOPE: DEADBEAT HERO (2004) – Transcript</td>\n",
       "      <td>['Thanks. Do you work hard all week? Don’t do ...</td>\n",
       "    </tr>\n",
       "    <tr>\n",
       "      <td>49</td>\n",
       "      <td>49</td>\n",
       "      <td>Amy Schumer: Growing (2019) – Full Transcript</td>\n",
       "      <td>['That’s all over now. Because I’m fucking pre...</td>\n",
       "    </tr>\n",
       "    <tr>\n",
       "      <td>18</td>\n",
       "      <td>18</td>\n",
       "      <td>David Cross: Oh Come On (2019) – Full Transcript</td>\n",
       "      <td>['* * *', '[Cross] And you gotta do it, it rea...</td>\n",
       "    </tr>\n",
       "    <tr>\n",
       "      <td>218</td>\n",
       "      <td>16</td>\n",
       "      <td>FRANKIE BOYLE LIVE 2: IF I COULD REACH OUT THR...</td>\n",
       "      <td>['Hello! (Chuckles) I like your look, big man....</td>\n",
       "    </tr>\n",
       "    <tr>\n",
       "      <td>161</td>\n",
       "      <td>161</td>\n",
       "      <td>D.L. HUGHLEY: UNAPOLOGETIC (2007) – Full Trans...</td>\n",
       "      <td>['I don’t understand it. Now we got everybody ...</td>\n",
       "    </tr>\n",
       "    <tr>\n",
       "      <td>223</td>\n",
       "      <td>21</td>\n",
       "      <td>COMEDY CENTRAL PRESENTS: DAVE ATTELL (1999) – ...</td>\n",
       "      <td>['Announcer: From New York City… ( Cheering, a...</td>\n",
       "    </tr>\n",
       "    <tr>\n",
       "      <td>38</td>\n",
       "      <td>38</td>\n",
       "      <td>Chelsea Peretti: One of the Greats (2014) – Fu...</td>\n",
       "      <td>['[Peretti opens the show with a bit of pre-ta...</td>\n",
       "    </tr>\n",
       "    <tr>\n",
       "      <td>299</td>\n",
       "      <td>97</td>\n",
       "      <td>CNN Larry King Live: Interview with Robin Will...</td>\n",
       "      <td>['Interview With Robin Williams', 'Aired July ...</td>\n",
       "    </tr>\n",
       "  </tbody>\n",
       "</table>\n",
       "</div>"
      ],
      "text/plain": [
       "     Unnamed: 0                                              title  \\\n",
       "262          60  LEWIS BLACK: BLACK TO THE FUTURE (2016) – Full...   \n",
       "275          73  LOUIS C.K.: LIVE AT THE BEACON THEATRE (2011) ...   \n",
       "60           60  Sebastian Maniscalco: What’s Wrong with People...   \n",
       "266          64  MIKE BIRBIGLIA: THANK GOD FOR JOKES (2017) – F...   \n",
       "264          62   DOUG STANHOPE: DEADBEAT HERO (2004) – Transcript   \n",
       "49           49      Amy Schumer: Growing (2019) – Full Transcript   \n",
       "18           18   David Cross: Oh Come On (2019) – Full Transcript   \n",
       "218          16  FRANKIE BOYLE LIVE 2: IF I COULD REACH OUT THR...   \n",
       "161         161  D.L. HUGHLEY: UNAPOLOGETIC (2007) – Full Trans...   \n",
       "223          21  COMEDY CENTRAL PRESENTS: DAVE ATTELL (1999) – ...   \n",
       "38           38  Chelsea Peretti: One of the Greats (2014) – Fu...   \n",
       "299          97  CNN Larry King Live: Interview with Robin Will...   \n",
       "\n",
       "                                               scripts  \n",
       "262  ['A survey from Public Policy Polling revealed...  \n",
       "275  ['Alright, let’s get started. Go ahead, sit do...  \n",
       "60   ['So good, so good to be here, man. What a yea...  \n",
       "266  ['So… Okay. Thank you. Thank you, guys. Well… ...  \n",
       "264  ['Thanks. Do you work hard all week? Don’t do ...  \n",
       "49   ['That’s all over now. Because I’m fucking pre...  \n",
       "18   ['* * *', '[Cross] And you gotta do it, it rea...  \n",
       "218  ['Hello! (Chuckles) I like your look, big man....  \n",
       "161  ['I don’t understand it. Now we got everybody ...  \n",
       "223  ['Announcer: From New York City… ( Cheering, a...  \n",
       "38   ['[Peretti opens the show with a bit of pre-ta...  \n",
       "299  ['Interview With Robin Williams', 'Aired July ...  "
      ]
     },
     "execution_count": 22,
     "metadata": {},
     "output_type": "execute_result"
    }
   ],
   "source": [
    "file.sample(12)"
   ]
  },
  {
   "cell_type": "code",
   "execution_count": 76,
   "metadata": {},
   "outputs": [
    {
     "data": {
      "text/plain": [
       "str"
      ]
     },
     "execution_count": 76,
     "metadata": {},
     "output_type": "execute_result"
    }
   ],
   "source": [
    "import string \n",
    "#string.punctuation\n",
    "import re\n",
    "corpus = file.scripts[49]\n",
    "# corpus = re.sub(r'[^\\w\\s]','',corpus)\n",
    "# corpus.replace('xa0',' ')\n",
    "# type(corpus)"
   ]
  },
  {
   "cell_type": "code",
   "execution_count": 137,
   "metadata": {},
   "outputs": [
    {
     "data": {
      "text/plain": [
       "'’     ’  ! ,    ’    , … ’  ,        , ’, ,      ’    ,  ? ’ , , “,  !” ? - …                    ’ , “’ !” “   ’   ”      ,   , “  ?”   , “    …          ” ,                  ’ ,          ? ’  ,    … ’           , ,   ’  ,  ’           ’        ,       …       …  ,               ‘              ,     … “   ?     ’ ?”    ?    , “   ?    ?    ?” !      ,         ’    “     , ”                   -      ’     , ? ’     ,  … ’    ’                ’, ,         ’   , , - ,  ,    … ’    , ’ … , ,      ,   ’ … “ ’     ”   , ’ , “       , ?   ?           ?”     …   … ‘        ,          ,       ,   ’     , ,  ,     , “, ,  ! -!       ?”    ,      ,    ,       , “, ! ” ,            ’…          …     ?     , …              ? ,           ,  ’     ’      ’    , ’  ’        ,    , “’        ’   ” ’      ,  ’  , “ ’      ” ’ , “      ” ’  ’       ,     , …  ’    … ,   ’         …  ’           ’                  ‘ ’    ‘  ,  ’   ’      ’     ’ ,   ’ …      ,    !      , ’      , “!” ♪  ’     ♪  ?         ,     ,  ,      ,  ’     ,        ’… ’             ,    … ……      ?  ’   ’ ,   ’             , “,  ’… ’  ,   …          ,”  ? ’           ’   ,    ’     , …  ? ,  ’      , , ’                 ?      , ’     , “, …    ?     ,     ?  ’  ?   ,     ?” …    , “  ?      ,  ?”    , “, ’   ,        ,   ’         ’   ” !  ’    …  ,    , ,        ’ … “,         ’ ?” ’ , “      , ’  ” ’ , “’     ’  ’ ”  …        ,  ,  ? ’ , “   , ,  ,  ” ’ … -! ,  ’  …  ,  ’              , ’ , … ’            ’   , ! ♪        ♪      ’    ?     ? ’          , ’    --   ’          ’  …     …        ’, ,         … , ,         ,     ’     ,  …  ’     …  ?   , ’  …  ’…   ,    ,           …          ,   , “   ”    , …   , “         ?”    , “  ”        ’   ’    ,  ’   …  ? ‘, ,     ,        , ?   ’   “ ’     ! ’    ,  …” ,  ’  … ’    …      ’         ’                     , ’ , “,  ! , …       ”                ’    ’     …         …    ,    ’  , ,       ,  ? ’  ’    , ,               ’         ’ , “    ” ’   , ?         ,    ,       , ’   ’  ’ … “  , ?” “    , ” “  ’    ’ … ”    ’ , “  ?” ’ , “  ! !”        “-, ’     ”    ?    ’   ,               ?         ,   …  ’        ’       ,   ’ … ’              ‘       , ’     ,  ? ’            …     ’  …   ’       ,  ? ’ …      ‘              --        , “’ !”  ’      , …             ,                , ’  , “     ?     ?”     … ’        ’     …         , …          …         ,           ,         , “’           ”     ,      , “, ,           ”    , “  ?”    ’ , ,                  “,”       , “’  ”        ,       ,   , “,         ” ’ … “” ’ , “’       ” “”  … “ ’   ” ’ , “?”   ’      ‘     ,          ,  ,     …    …       …     ’         ’         …       ,                                    ,   …    , “’      ?”     ,  …  ’      , ?                 …      ,          ?         ,  , ’    , …   ,   , “,          ’     ”  ’ , “   ?”    … “     ?   …      ”       … “?”   , “! ?” ’      ,   ’    , “,    ’   ’   ’  ”      ,  ?   ’  , “ ’    ” ,         ’        ,  …       ’              …           ’      ’    …      , …         ,            , “,  !   ?” ?         “,  !   ?”  ,   …        ,     , …           ,   ’    , “!”    “” ,  ?     ,                   ’                 ’              ,  ?  ’               ,     , , “    ?” ’ , “         ’   ?” ’ … “” , \"                , ’    ’      ,    ’ ?       ’            ’    ,    ,           ,            ,   ’     -        ,     ,    , “,  ,   , ’    ”    … “! ’  ”   … “,  ” “ ,  ’” “, ? ‘  , ‘,  , ’    ” “ , !        ”\",  ,          ’    …       ’               ,      ,  ,   ’               ,   , “…           ,  ?”     , …        ,      ‘    , ’    ,    …     , “    ’       ” ,  ’    ’               ’    ,        ’  ,  ,   ,     ,  …  … ’         …       ,  ? , “’    ,  ?         ” ’   ,  ,       ,   , “’     ’         ”  ’ , “ ’  ’    ”        ♪       ♪    ’             ,       ,          ,  ,       , ?            ’      ’        “…       ” “, ’   ”      ,     ?  ? ,   ’      ’   , ,            …  …     , “, ’             ,   , ?  …” ,                  ,  ? ’ …     ,            , ,   …  ’     ,  …       , ’   …      ,   ’         … “   …” “?”   ? ’  ? ’       “    ?”                …         ,  …             , “, ,    ?” , , ,        ,  ’   … …   ,  ? ’ , “, ’      ?   ?    , ? ’     ?”              … … ,  ? ’  … “ ’    , , …   ?  ’        ’      ” ,        ,   ! ’       ! ’           ,  ,    ,                 ,          , … ! …      ,   …           ,        !   ’          ’    ’            ,   ,   ,   ’      ’     ’    –     ’  ? – ! ,       …  …      ? ’            ,   …       ,            … ! ’   ’                  “’  ”  ’      ’       ,  ’    ’           …      !  ?      ? “…” ,          ’          ? ?  ,   ’     , , …       -   … …   , …        , … ! !     ’             ’                    ’  … …   ?    ’       ’   ? ’   , ?      , ’               , “!  ,   ”   ’  ,        …   , “        ” ? “     ” ’ , “, ’   …” “!  ” “” ’        … “     ?” ,                          ’    “”…   ,  ?                ’  ,     ’  ? – ! –   ’ … ’  ’    ,         ,            ,         ,     …    … ,  , ,  …       ?   ’   ,  ’    ,  ,  ,  …  ’  …  ,            ,  ,       , …     , …    ,                   ,     ,    , “  ’    ”          & , , “   ”     ’     ,   …     ’    “”     ’   ’    ’   …     ’           ,           …   , …    ’              ,                ’    , ’      ’   ,       ,       ,     ,        ’            ,     ?          , ?  ’            “, ,  ’! !     -!”  … ,      ,         ’           ’   …   … , ! ’    ’                   ?  ’         ?         ,  ? ’             ’ , “,           ?”  ’ , “, !”  ’ , “      ?”  ’ , “,  ’    ” ’ , “”  ’ , “” ’    ,  ? ’  ,  ’ , “                ” ’   ,  ’                       ’    ’   --   “ ,   ”           ’    ,  ,   , ’     ,             ,    ? –    – “  ” ! ’ , “       ” “!          ’   ”  ’ , “ ’   ! ! ’     ” “     ” “’   !” “!” ?            , “     ?” ‘ ’            ,      , “     ’  ’     ,  ’   ”  ’        ’   ’, ,  ,  ? ,   ,  ? ’     ,  , ?  ’ ’            ’          ,               ? ?  !                              , “!    ,      ? !  , ’     , ?  -,     ?   ” ,                ’  …                , “’  ,”                     ’   ,  ,        ’       ,        ’   , , …            ,      …           ,     ,     … ,  ,    , …       , …         ,    ,        ,   ’  ,       , ,  ,           ,    ’    ,  ’ , “ ,  ,” , “     ”    ’    ,   …       … ’, “ ,”  ’…         , “  ?” ’ …   ,           ,  , ’  ,  ,    ’    ,  ’ , “  ,”  ’      ,  ’ … “!”        , “   ’ ”    , “’     ”                ?  ,  ,    , …    ’  ,  …   ,      ?      ’       ,   , ’     ’     ’  “ ,           ” ’      ,  ? , ’      …  ’      , …          ?         ?   ’  ?       ’ … ’    …  ’ , ,   ,        , ,    ’             ?                       ,                  , “, ” ’ ,       , “”   ’     ,    ’  ,  ’ … “      ?”     , ,     ,          ,   , “       ?”    , “,          ”    , “’     ” ’ …      ,   “    ’ …     ?            ’  ?” ’ , “, ’    ”   , “ ”                 ? ‘    ’ , ,    “    ,   , ,    ’     ?”   ,         , “   ,      ”    , “  ’   ,”    , ,      ,  ’ , “   ? ’   ’  ” ,         ,  ’    ,          , ’                       , ,           ’          ,    ’    , ’   ’   , …  ,        ’   , ? ,  ,      ’       , “     ?” ’ , “!”   ?   ’       ’        “ ”     ? ’       ’   ’                 ’    ,  …       , ?        ?        … ,        …        ’       ,     ’ …  ’ , “,       ?”   “ ”  ’   ,  ’          ’         ’ ,     …       ’             ’…  , ’… ’   ,     ’ , “      , ” ’                  ,       ’       ’  , ? ‘   , ’   ’           “    ?” “, ”      , ’ , “!” ’ , “ ’  ” ’     ’      ,       , ’            ’  , … “… ’ ”     ’   … ’   … …  …      ’ , “,    …? ,  …  ’     , ,  , …  ,                   ,  …?”  , ’  ’            ” ,        …    ,         , ,  ,      ,  ’   ,                …  ,  ,    ,          ,       , …     ,  ?     …    ,   ’    ’   ’  , “ ’     ?” ’    ’             ’    ’      ’ …     …         , ?                 , ’ , “, !  , !”  ’       … “ ”  ’ , “   ?”  ’ … “’            ” ,     ,     ,                ,  ’      ’   …  ’              ’             ’  ,         …                   ’      ,      … ’, ,     ’  ’ , “       ?”    ’      ,   ,    , ,            ,   ]'"
      ]
     },
     "execution_count": 137,
     "metadata": {},
     "output_type": "execute_result"
    }
   ],
   "source": [
    "test = file.scripts[49].replace('xa0',' ').replace('\\'',' ')\n",
    "test = test.replace('\\\\','')\n",
    "test = re.sub(r'^\\W+','',test)\n",
    "test = re.sub(r'\\w+\\.?','',test)\n",
    "test"
   ]
  },
  {
   "cell_type": "code",
   "execution_count": 88,
   "metadata": {},
   "outputs": [],
   "source": [
    "word_list = corpus.split(\" \")\n",
    "pairs = [(word_list[w],word_list[w+1]) for w in range(len(word_list)-1)]"
   ]
  },
  {
   "cell_type": "code",
   "execution_count": 92,
   "metadata": {},
   "outputs": [
    {
     "data": {
      "text/plain": [
       "['Thats',\n",
       " 'all',\n",
       " 'over',\n",
       " 'now',\n",
       " 'Because',\n",
       " 'Im',\n",
       " 'fucking',\n",
       " 'pregnant',\n",
       " 'Yeah',\n",
       " 'I']"
      ]
     },
     "execution_count": 92,
     "metadata": {},
     "output_type": "execute_result"
    }
   ],
   "source": [
    "word_list[:10]"
   ]
  },
  {
   "cell_type": "code",
   "execution_count": null,
   "metadata": {},
   "outputs": [],
   "source": []
  },
  {
   "cell_type": "raw",
   "metadata": {},
   "source": [
    "creates a function that turns list into _lenght of ngrams"
   ]
  },
  {
   "cell_type": "code",
   "execution_count": 99,
   "metadata": {},
   "outputs": [],
   "source": [
    "def giveNgram(num, some_list):\n",
    "    new_list = [tuple(some_list[i:i+num]) for i in range(len(some_list)-num)]\n",
    "    return new_list"
   ]
  },
  {
   "cell_type": "code",
   "execution_count": 106,
   "metadata": {},
   "outputs": [
    {
     "data": {
      "text/plain": [
       "[('Thats', 'all', 'over', 'now', 'Because'),\n",
       " ('all', 'over', 'now', 'Because', 'Im'),\n",
       " ('over', 'now', 'Because', 'Im', 'fucking'),\n",
       " ('now', 'Because', 'Im', 'fucking', 'pregnant'),\n",
       " ('Because', 'Im', 'fucking', 'pregnant', 'Yeah')]"
      ]
     },
     "execution_count": 106,
     "metadata": {},
     "output_type": "execute_result"
    }
   ],
   "source": [
    "giveNgram(5, word_list)[:5]"
   ]
  },
  {
   "cell_type": "code",
   "execution_count": 112,
   "metadata": {},
   "outputs": [],
   "source": [
    "import re\n",
    "\n",
    "urls = '''\n",
    "https://www.google.com\n",
    "http://coe.com\n",
    "https://youtube.com\n",
    "https://www.nasa.gov\n",
    "'''"
   ]
  },
  {
   "cell_type": "code",
   "execution_count": 116,
   "metadata": {},
   "outputs": [
    {
     "name": "stdout",
     "output_type": "stream",
     "text": [
      "<re.Match object; span=(1, 23), match='https://www.google.com'>\n",
      "<re.Match object; span=(24, 38), match='http://coe.com'>\n",
      "<re.Match object; span=(39, 58), match='https://youtube.com'>\n",
      "<re.Match object; span=(59, 79), match='https://www.nasa.gov'>\n"
     ]
    }
   ],
   "source": [
    "pattern = re.compile(r'https?://(www\\.)?\\w+\\.\\w+')\n",
    "matches = pattern.finditer(urls)\n",
    "for match in matches:\n",
    "    print(match)"
   ]
  },
  {
   "cell_type": "code",
   "execution_count": 117,
   "metadata": {},
   "outputs": [
    {
     "name": "stdout",
     "output_type": "stream",
     "text": [
      "www.\n",
      "\n",
      "\n",
      "www.\n"
     ]
    }
   ],
   "source": [
    "matches2 = pattern.findall(urls)\n",
    "for match in matches2:\n",
    "    print(match)"
   ]
  },
  {
   "cell_type": "code",
   "execution_count": null,
   "metadata": {},
   "outputs": [],
   "source": [
    "matches3 = pattern.match(urls)//match only the begining\n",
    "matches4 = pattern.search(urls) //seaching within the context"
   ]
  }
 ],
 "metadata": {
  "kernelspec": {
   "display_name": "Python 3",
   "language": "python",
   "name": "python3"
  },
  "language_info": {
   "codemirror_mode": {
    "name": "ipython",
    "version": 3
   },
   "file_extension": ".py",
   "mimetype": "text/x-python",
   "name": "python",
   "nbconvert_exporter": "python",
   "pygments_lexer": "ipython3",
   "version": "3.7.4"
  }
 },
 "nbformat": 4,
 "nbformat_minor": 2
}
